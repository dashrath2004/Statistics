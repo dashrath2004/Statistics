{
 "cells": [
  {
   "cell_type": "markdown",
   "id": "fc7e7850-e823-4a5b-8611-d2954b877fcc",
   "metadata": {},
   "source": [
    "Q1. What is Statistics?"
   ]
  },
  {
   "cell_type": "markdown",
   "id": "679b2e1f-9cfd-4edc-8c27-4c998eb95621",
   "metadata": {},
   "source": [
    "Statistics is a field of mathematics that deals with the collection, analysis, interpretation, presentation, and organization of data1. In data science, statistics is used to interpret and analyze data to support decision making"
   ]
  },
  {
   "cell_type": "markdown",
   "id": "81277f7b-5225-434f-a2bf-646610af5ce4",
   "metadata": {},
   "source": [
    "Q2. Define the different types of statistics and give an example of when each type might be used."
   ]
  },
  {
   "cell_type": "markdown",
   "id": "3487d426-1259-44ba-8132-0735cf3b0b72",
   "metadata": {},
   "source": [
    "There are two main types of statistics:  \n",
    "\n",
    "1.Descriptive Statistics and \n",
    "2.Inferential Statistics\n",
    "\n",
    "1.Descriptive Statistics :  Descriptive statistics is used to describe the basic features of the data in a                               study. It provides simple summaries about the sample and the measures. For                                   example, if we want to know the average height of students in a class, we can                                 use descriptive statistics to calculate the mean height of the students.\n",
    "\n",
    "2.Inferential Statistics :  Inferential statistics is used to make predictions or generalizations about a                                 population based on a sample of data taken from that population. For example, if                             we want to know the average height of all students in a school, we can use                                   inferential statistics to estimate the mean height of all students based on a                                 sample of students.\n"
   ]
  },
  {
   "cell_type": "markdown",
   "id": "c8383138-b52d-4c26-a6d8-c1738bee110d",
   "metadata": {
    "tags": []
   },
   "source": [
    "Q3. What are the different types of data and how do they differ from each other? Provide an example of\n",
    "each type of data."
   ]
  },
  {
   "cell_type": "markdown",
   "id": "16564862-691d-44b4-8e68-392bced87612",
   "metadata": {},
   "source": [
    "Data types are categories of data that have different properties, formats, and operations. Some common data types are integers, floating point numbers, characters, strings, and arrays. \n",
    " \n",
    " Here is an example of each type of data:\n",
    "\n",
    " 1.Integer: 2\n",
    " 2.Floating point number: 3.14\n",
    " 3.Character: ‘a’\n",
    " 4.String: “Hello World”\n",
    " 5.Array: [1, 2, 3]"
   ]
  },
  {
   "cell_type": "markdown",
   "id": "aba75bee-23f7-4552-bf42-471a36af09bd",
   "metadata": {},
   "source": [
    "In Statistics, There Are Two Types Of Data - \n",
    "\n",
    "1. Quantitative/Numerical Data :\n",
    "2. Qualitative/Categorical/Non-Numerical Data :\n",
    "\n",
    "   **Quantitative data can be further divided into Two Types Of Data**\n",
    "\n",
    "(i)  Discrete Data: This is a type of quantitative data, which is information that has numerical values Or                        Whole Number. Example - No. Of Bank Account\n",
    "\n",
    "(ii) Continuous Data: This is the opposite of discrete data, featuring sequences that have the potential to                         go on infinitely. Example - Weight & Height Of Students\n",
    "\n",
    "   **Qualitative Data can be further divided into Two Types Of Data**\n",
    "   \n",
    "(i)  Nominal Data: This type of qualitative data is descriptive. Example - Gender Of Man & Women\n",
    "\n",
    "(ii) Ordinal Data: This is another type of qualitative data. Example - Customer Feedback"
   ]
  },
  {
   "cell_type": "markdown",
   "id": "37d6f7d5-b9ab-4a83-a8cf-64f2c24ba556",
   "metadata": {},
   "source": [
    "Q4. Categorise the following datasets with respect to quantitative and qualitative data types:\n",
    "(i) Grading in exam: A+, A, B+, B, C+, C, D, E\n",
    "(ii) Colour of mangoes: yellow, green, orange, red\n",
    "(iii) Height data of a class: [178.9, 179, 179.5, 176, 177.2, 178.3, 175.8,...]\n",
    "(iv) Number of mangoes exported by a farm: [500, 600, 478, 672, ...]"
   ]
  },
  {
   "cell_type": "markdown",
   "id": "4908ab7e-53a7-4fad-b216-86ad344ac78f",
   "metadata": {},
   "source": [
    "(i)   Grading in exam: A+, A, B+, B, C+, C, D, E - Qualitative\n",
    "(ii)  Colour of mangoes: yellow, green, orange, red - Qualitative\n",
    "(iii) Height data of a class: [178.9, 179, 179.5, 176, 177.2, 178.3, 175.8,…] - Quantitative\n",
    "(iv)  Number of mangoes exported by a farm: [500, 600, 478, 672, …] - Quantitative"
   ]
  },
  {
   "cell_type": "markdown",
   "id": "0fccf729-e313-48ee-b7d7-9b6772c7c005",
   "metadata": {},
   "source": [
    "Q5. Explain the concept of levels of measurement and give an example of a variable for each level."
   ]
  },
  {
   "cell_type": "markdown",
   "id": "9f94e953-03f7-49c1-a9e1-889249baf15e",
   "metadata": {},
   "source": [
    "Levels of measurement are used to describe the nature of variables. There are four levels of measurement for variables:\n",
    "\n",
    "1.Nominal: the data can only be categorized & Order does not matter\n",
    "2.Ordinal: the data can be categorized & ranked, Order matter, Difference can't be measured.\n",
    "3.Interval: the data can be categorized, ranked, evenly spaced, Difference can be Maesurable.\n",
    "4.Ratio: the data can be categorized, ranked, evenly spaced, and has a true zero point.\n",
    "\n",
    "An example of a variable for each level is:\n",
    "\n",
    "1.Nominal: Gender (Male/Female)\n",
    "2.Ordinal: Educational level (High school diploma, Bachelor’s degree, Master’s degree)\n",
    "3.Interval: Temperature in Celsius or Fahrenheit\n",
    "4.Ratio: Height in centimeters or inches"
   ]
  },
  {
   "cell_type": "markdown",
   "id": "5ff62e11-cd2d-4741-9558-c32e11f1c686",
   "metadata": {},
   "source": [
    "Q6. Why is it important to understand the level of measurement when analyzing data? Provide an\n",
    "example to illustrate your answer."
   ]
  },
  {
   "cell_type": "markdown",
   "id": "8fb4f3c5-0ac7-4b0d-b810-bdbd1558d08f",
   "metadata": {},
   "source": [
    "The level of measurement is important because it determines the type of statistical analysis you can carry out. Knowing the level of measurement helps you decide how to interpret the data from that variable. The different levels limit which descriptive statistics you can use to get an overall summary of your data, and which type of inferential statistics you can perform on your data to support or refute your hypothesis. For example, if you classify your data at the ordinal level of measurement, you know that you can evaluate how items compare to each other based on a specific hierarchy.\n",
    "\n",
    "Here’s an example: Suppose we have a variable called “income” and we want to compare the average income between two groups: Group A and Group B. If we measure income at the nominal level (e.g., male/female), we can only calculate the frequency of each group. If we measure income at the ordinal level (e.g., low/medium/high), we can calculate the frequency and median income for each group. If we measure income at the interval level (e.g., dollars), we can calculate the frequency, median income, mean income, and standard deviation for each group. If we measure income at the ratio level (e.g., dollars with a true zero point), we can calculate all of these statistics as well as ratios between incomes."
   ]
  },
  {
   "cell_type": "markdown",
   "id": "10927100-2a30-4424-943f-70d95fcbb6aa",
   "metadata": {},
   "source": [
    "Q7. How nominal data type is different from ordinal data type."
   ]
  },
  {
   "cell_type": "markdown",
   "id": "0758a680-0f84-455a-810c-434d195a51bc",
   "metadata": {},
   "source": [
    "Kinds of data: nominal and ordinal:\n",
    "\n",
    "Nominal data are a type of categorical data that assign names to each data point without placing it in some sort of order. For example, hair color, eye color, marital status, etc.\n",
    "\n",
    "Ordinal data are a type of categorical data that group data according to some sort of ranking system. For example, education level, satisfaction rating, income group, etc."
   ]
  },
  {
   "cell_type": "markdown",
   "id": "e7ab9eed-28f1-40a7-97f6-9ff834f74163",
   "metadata": {},
   "source": [
    "Q8. Which type of plot can be used to display data in terms of range?"
   ]
  },
  {
   "cell_type": "markdown",
   "id": "c6f7b406-8575-4ec4-b47d-79a0613b21e5",
   "metadata": {},
   "source": [
    "Scatterplot : A scatter graph or scatter plot is a type of display using variables for a set of data."
   ]
  },
  {
   "cell_type": "markdown",
   "id": "a887ee1f-6a4c-42d3-856c-770b2023d55c",
   "metadata": {},
   "source": [
    "Q9. Describe the difference between descriptive and inferential statistics. Give an example of each\n",
    "type of statistics and explain how they are used."
   ]
  },
  {
   "cell_type": "markdown",
   "id": "cf62acb9-2678-4cb1-bd8a-802fce8d9279",
   "metadata": {},
   "source": [
    "1.Descriptive statistics are used to describe a data set or a population using summary statistics, graphs, and tables. They are typically more definitive and are used to understand a group of data much more quickly and easily compared to just staring at rows and rows of raw data values. For example, suppose we have a set of raw data that shows the test scores of 1,000 students at a particular school. We might be interested in the average test score along with the distribution of test scores. Using descriptive statistics, we could find the average score and create a graph that helps us visualize the distribution of scores. This allows us to understand the test scores of the students much more easily compared to just staring at the raw data.\n",
    "\n",
    "An example of descriptive statistics is calculating the mean, median, mode, range, variance, and standard deviation of a set of data. \n",
    "\n",
    "2.Inferential statistics use samples to draw inferences or make predictions about larger or different populations. They account for sampling errors and test hypotheses. Inferential statistics are useful when we want to generalize our findings from a sample to a larger population. For example, suppose we want to know if there is a difference in test scores between two schools. We could take a sample of students from each school and compare their test scores using inferential statistics.\n",
    "\n",
    "An example of inferential statistics is hypothesis testing."
   ]
  },
  {
   "cell_type": "markdown",
   "id": "6253eb04-5cd9-4807-aee9-167c9ebe8338",
   "metadata": {},
   "source": [
    "Q10. What are some common measures of central tendency and variability used in statistics? Explain\n",
    "how each measure can be used to describe a dataset."
   ]
  },
  {
   "cell_type": "markdown",
   "id": "1d48b757-2503-4dd7-97d4-a5c3f5ed3358",
   "metadata": {},
   "source": [
    "Measures of central tendency and variability are used in statistics to summarize data. Measures of central tendency show where the center or middle of the data set is located. Examples of measures of central tendency are the mean, median, and mode. The mean is the sum of all values divided by the total number of values. The median is the middle number in an ordered dataset. The mode is the most frequent value. Measures of variation show the dispersion or spread among data values. Examples of measures of variation are standard deviation, variance, minimum and maximum variables, kurtosis, and skewness.\n",
    "\n",
    "The mean is used when the data is normally distributed and has no outliers. It is sensitive to outliers and can be affected by extreme values. The median is used when there are outliers in the data set. It is less sensitive to outliers than the mean. The mode is used when there are categorical variables in the data set.\n",
    "\n",
    "Standard deviation is a measure of how much variation there is in a set of data values. It measures how far each value is from the mean value. Variance is another measure of variation that measures how far each value is from the mean value squared."
   ]
  },
  {
   "cell_type": "code",
   "execution_count": null,
   "id": "bfdd02d8-9f82-4318-a69d-a3e9e3b54ee3",
   "metadata": {},
   "outputs": [],
   "source": []
  }
 ],
 "metadata": {
  "kernelspec": {
   "display_name": "Python 3 (ipykernel)",
   "language": "python",
   "name": "python3"
  },
  "language_info": {
   "codemirror_mode": {
    "name": "ipython",
    "version": 3
   },
   "file_extension": ".py",
   "mimetype": "text/x-python",
   "name": "python",
   "nbconvert_exporter": "python",
   "pygments_lexer": "ipython3",
   "version": "3.10.8"
  }
 },
 "nbformat": 4,
 "nbformat_minor": 5
}
