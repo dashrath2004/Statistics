{
 "cells": [
  {
   "cell_type": "markdown",
   "id": "3ac568b5-47be-44ce-8925-556de3a1c261",
   "metadata": {},
   "source": [
    "# Q1. Explain the assumptions required to use ANOVA and provide examples of violations that could impact the validity of the results."
   ]
  },
  {
   "cell_type": "markdown",
   "id": "93ec45f8-8738-4040-943c-59972e0dfee3",
   "metadata": {},
   "source": [
    "Assumption required to use ANOVA are given below:\n",
    "    \n",
    "1-Normality of Sampling Distribution of Means.(the distribution of sample mean is normaly distributed)\n",
    "\n",
    "2-Absence of Outliers.(Outlying score need to be removed from dataset.)\n",
    "\n",
    "3-Homogenity of variance.(Each one of the population has same variance)\n",
    "Population variace in different lavels of each independence variable are equal.\n",
    "\n",
    "4-Sample are independent and random.\n",
    "\n",
    "\n",
    "\n",
    "If any of these assumptions are violated, the results of the ANOVA test may not be valid or reliable. Here are some examples of violations that could impact the validity of the results:\n",
    "\n",
    "1Independence violation: If the observations in one group are not independent of those in another group, this can lead to biased results. For example, if a study measures the weight of siblings and includes both siblings in the analysis, the observations are not independent, and the ANOVA test results may be invalid.\n",
    "\n",
    "2-Normality violation: If the data in each group are not normally distributed, the ANOVA test may not be appropriate. For example, if a study measures the salaries of employees in a company and the data are skewed, the ANOVA test may not provide accurate results.\n",
    "\n",
    "3-Homogeneity of variance violation: If the variances in the different groups are not equal, the ANOVA test may not be appropriate. For example, if a study compares the performance of two different training programs and the variance of scores in one program is much higher than the other, the ANOVA test may not provide accurate results.\n",
    "\n",
    "It is important to check for these assumptions before conducting an ANOVA test and to address any violations that are found. There are also alternative statistical tests available that may be more appropriate for data that violates these assumptions."
   ]
  },
  {
   "cell_type": "markdown",
   "id": "c34514d3-228a-4409-9060-b72bd45fc250",
   "metadata": {},
   "source": [
    "# Q2. What are the three types of ANOVA, and in what situations would each be used?"
   ]
  },
  {
   "cell_type": "markdown",
   "id": "34cd35ac-dbc0-4aad-90ce-6df9dd813734",
   "metadata": {},
   "source": [
    "There are three types of ANOVA:\n",
    "\n",
    "1-One-way ANOVA: This is used when there is one categorical independent variable (also known as a factor) with three or more levels, and one continuous dependent variable. One-way ANOVA is used to test whether there are any significant differences between the means of the groups defined by the levels of the categorical variable. For example, a one-way ANOVA could be used to test whether there is a significant difference in the mean weight of three different breeds of dogs.\n",
    "\n",
    "2-Two-way ANOVA: This is used when there are two independent variables (factors), both categorical, with two or more levels each, and one continuous dependent variable. Two-way ANOVA is used to test whether there are any significant main effects of each independent variable, as well as any significant interaction effect between the two independent variables on the dependent variable. For example, a two-way ANOVA could be used to test whether there is a significant effect of gender and age group on the mean score of a cognitive ability test.\n",
    "\n",
    "3-Repeated-measures ANOVA: This is used when there is one independent variable (factor) that is measured at multiple time points or conditions, and one continuous dependent variable. Repeated-measures ANOVA is used to test whether there are any significant differences between the means of the repeated measures or conditions, and to control for the effects of individual differences by treating each participant as their own control. For example, a repeated-measures ANOVA could be used to test whether there is a significant effect of a training program on the mean reaction time of participants, where reaction time is measured before and after the training program.\n",
    "\n",
    "It is important to choose the appropriate type of ANOVA based on the research question and the design of the study. One-way ANOVA is used when there is one independent variable, two-way ANOVA is used when there are two independent variables, and repeated-measures ANOVA is used when there are repeated measurements or conditions of one independent variable."
   ]
  },
  {
   "cell_type": "markdown",
   "id": "94362eed-c063-483f-9ab0-844463abe163",
   "metadata": {},
   "source": [
    "# Q3. What is the partitioning of variance in ANOVA, and why is it important to understand this concept?"
   ]
  },
  {
   "cell_type": "markdown",
   "id": "4e3007a2-78d3-4b9e-b2f1-432db70b52f8",
   "metadata": {},
   "source": [
    "The partitioning of variance in ANOVA refers to the process of decomposing the total variance of the dependent variable into its component parts, which are attributed to the different sources of variation in the study. These sources of variation can be divided into two categories: within-group variance (also called error variance) and between-group variance (also called treatment or factor variance). The process of partitioning variance is essential for understanding how much of the total variation in the dependent variable is explained by the independent variables in the study.\n",
    "\n",
    "In ANOVA, the total variance of the dependent variable is partitioned into three components:\n",
    "\n",
    "1-The within-group variance, which represents the variation in the dependent variable that is not explained by the independent variable(s) or factor(s) in the study. This variance is typically assumed to be due to random error or chance factors.\n",
    "\n",
    "2-The between-group variance, which represents the variation in the dependent variable that is attributed to the independent variable(s) or factor(s) in the study. This variance reflects the differences between the means of the groups defined by the levels of the independent variable(s).\n",
    "\n",
    "3-The residual or error variance, which is the remaining variance after accounting for both the within-group and between-group variance.\n",
    "\n",
    "Understanding the partitioning of variance is important for several reasons. First, it allows researchers to determine whether there are any significant differences between the means of the groups defined by the levels of the independent variable(s) in the study. Second, it helps researchers to identify the sources of variation that are most important for explaining the variability in the dependent variable. Finally, it enables researchers to estimate the effect size of the independent variable(s) or factor(s) on the dependent variable, which is a crucial piece of information for interpreting the practical significance of the findings.\n",
    "\n",
    "In summary, the partitioning of variance is a fundamental concept in ANOVA that allows researchers to determine whether there are significant differences between groups, identify the sources of variation, and estimate the effect size of the independent variable(s) or factor(s) on the dependent variable.\n",
    "\n",
    "\n",
    "\n"
   ]
  },
  {
   "cell_type": "markdown",
   "id": "b113fd32-0afc-48ed-a0f7-2b4609f25e16",
   "metadata": {},
   "source": [
    "# Q4. How would you calculate the total sum of squares (SST), explained sum of squares (SSE), and residual sum of squares (SSR) in a one-way ANOVA using Python?"
   ]
  },
  {
   "cell_type": "code",
   "execution_count": 4,
   "id": "99321166-b5d9-4941-beff-c8239d4a0ded",
   "metadata": {},
   "outputs": [
    {
     "name": "stdout",
     "output_type": "stream",
     "text": [
      "SST: 719.7241202987873\n",
      "SSE: 345.76318887909326\n",
      "SSR: 373.960931419694\n"
     ]
    }
   ],
   "source": [
    "import numpy as np\n",
    "from scipy.stats import f_oneway\n",
    "\n",
    "# Generate some example data\n",
    "group1 = np.random.normal(10, 2, 30)\n",
    "group2 = np.random.normal(12, 2, 30)\n",
    "group3 = np.random.normal(15, 2, 30)\n",
    "\n",
    "# Combine the data into a single array\n",
    "data = np.concatenate([group1, group2, group3])\n",
    "\n",
    "# Create an array of labels for the groups\n",
    "labels = np.concatenate([np.repeat(\"Group 1\", 30), np.repeat(\"Group 2\", 30), np.repeat(\"Group 3\", 30)])\n",
    "\n",
    "# Conduct the one-way ANOVA\n",
    "f_statistic, p_value = f_oneway(group1, group2, group3)\n",
    "\n",
    "# Calculate the degrees of freedom\n",
    "df_total = len(data) - 1\n",
    "df_groups = len(np.unique(labels)) - 1\n",
    "df_error = df_total - df_groups\n",
    "\n",
    "# Calculate the sum of squares\n",
    "grand_mean = np.mean(data)\n",
    "sst = np.sum((data - grand_mean) ** 2)\n",
    "sse = np.sum((np.mean(group1) - grand_mean) ** 2) * 30 + np.sum((np.mean(group2) - grand_mean) ** 2) * 30 + np.sum((np.mean(group3) - grand_mean) ** 2) * 30\n",
    "ssr = sst - sse\n",
    "\n",
    "print(\"SST:\", sst)\n",
    "print(\"SSE:\", sse)\n",
    "print(\"SSR:\", ssr)\n"
   ]
  },
  {
   "cell_type": "markdown",
   "id": "b1f92d0b-036a-41f8-ba4d-962c98c5c8ad",
   "metadata": {},
   "source": [
    "# Q5. In a two-way ANOVA, how would you calculate the main effects and interaction effects using Python?"
   ]
  },
  {
   "cell_type": "code",
   "execution_count": 13,
   "id": "8eca2dd1-848d-4718-938d-d43fe9cde5c9",
   "metadata": {},
   "outputs": [
    {
     "name": "stdout",
     "output_type": "stream",
     "text": [
      "Main effect of factor 1: 0.41905394441143456\n",
      "Main effect of factor 2: 0.02145915933432884\n",
      "Interaction effect: 0.05251778276398887\n"
     ]
    }
   ],
   "source": [
    "import numpy as np\n",
    "import pandas as pd\n",
    "import statsmodels.api as sm\n",
    "from statsmodels.formula.api import ols\n",
    "\n",
    "# Generate some example data\n",
    "np.random.seed(123)\n",
    "group1 = np.random.normal(10, 2, 30)\n",
    "group2 = np.random.normal(12, 2, 30)\n",
    "group3 = np.random.normal(15, 2, 30)\n",
    "factor1 = np.repeat([\"A\", \"B\", \"C\"], 30)\n",
    "factor2 = np.tile([\"X\", \"Y\", \"Z\"], 30)\n",
    "\n",
    "# Combine the data into a DataFrame\n",
    "df = pd.DataFrame({\"group\": np.concatenate([group1, group2, group3]),\n",
    "                   \"factor1\": factor1,\n",
    "                   \"factor2\": factor2})\n",
    "\n",
    "# Fit the two-way ANOVA model\n",
    "model = ols(\"group ~ factor1 + factor2 + factor1:factor2\", data=df).fit()\n",
    "\n",
    "# Extract the ANOVA table\n",
    "anova_table = sm.stats.anova_lm(model, typ=2)\n",
    "\n",
    "# Calculate the main effects and interaction effects\n",
    "main_effect_1 = anova_table.loc[\"factor1\", \"sum_sq\"] / anova_table[\"sum_sq\"].sum()\n",
    "main_effect_2 = anova_table.loc[\"factor2\", \"sum_sq\"] / anova_table[\"sum_sq\"].sum()\n",
    "interaction_effect = anova_table.loc[\"factor1:factor2\", \"sum_sq\"] / anova_table[\"sum_sq\"].sum()\n",
    "\n",
    "print(\"Main effect of factor 1:\", main_effect_1)\n",
    "print(\"Main effect of factor 2:\", main_effect_2)\n",
    "print(\"Interaction effect:\", interaction_effect)\n"
   ]
  },
  {
   "cell_type": "markdown",
   "id": "04093dd5-0c6a-401f-aa43-ea5b025a34f6",
   "metadata": {},
   "source": [
    "# Q6. Suppose you conducted a one-way ANOVA and obtained an F-statistic of 5.23 and a p-value of 0.02.What can you conclude about the differences between the groups, and how would you interpret these results?"
   ]
  },
  {
   "cell_type": "markdown",
   "id": "71f59cf6-b260-432f-9c5c-cc6ad7114268",
   "metadata": {},
   "source": [
    "If a one-way ANOVA yields an F-statistic of 5.23 and a p-value of 0.02, it means that there is evidence of a significant difference between the groups. Specifically, it means that the variance between the groups is greater than the variance within the groups, which suggests that there are significant differences in the means of the groups and we can conclude that at least one group has a mean that is significantly different from the others.\n",
    "\n",
    "However, we cannot determine which specific groups are different from each other based solely on the ANOVA results. Further analysis, such as post-hoc tests or confidence intervals, may be needed to determine the nature of the differences between the groups."
   ]
  },
  {
   "cell_type": "markdown",
   "id": "c8b3bd57-245f-4acf-b4d3-2225cc90889a",
   "metadata": {},
   "source": [
    "# Q7. In a repeated measures ANOVA, how would you handle missing data, and what are the potential consequences of using different methods to handle missing data?"
   ]
  },
  {
   "cell_type": "markdown",
   "id": "736540be-2e55-418d-bfc0-84ded2e3a03d",
   "metadata": {},
   "source": [
    "Handling missing data in a repeated measures ANOVA can be challenging, as the repeated nature of the design means that missing data can have a more profound impact on the analysis than in other designs. There are several methods for handling missing data in a repeated measures ANOVA, including:\n",
    "\n",
    "1-Pairwise deletion: This method involves omitting any cases with missing data for a particular variable, only using cases that have complete data for that variable. This method is easy to implement, but it can result in a loss of statistical power and can produce biased estimates if the missing data is not missing completely at random.\n",
    "\n",
    "2-Listwise deletion: This method involves omitting any cases that have missing data for any of the variables included in the analysis. This method avoids the potential bias of pairwise deletion, but it can also lead to a loss of statistical power if a substantial portion of the data is missing.\n",
    "\n",
    "3-Imputation: This method involves replacing missing data with estimated values based on the available data. There are several imputation methods, including mean imputation, regression imputation, and multiple imputation. Imputation can be a useful method for reducing the impact of missing data, but it can also introduce bias if the imputation model is misspecified."
   ]
  },
  {
   "cell_type": "markdown",
   "id": "8d750095-51ee-4e0b-b0fe-b70764ef4854",
   "metadata": {},
   "source": [
    "# Q8. What are some common post-hoc tests used after ANOVA, and when would you use each one? Provide an example of a situation where a post-hoc test might be necessary."
   ]
  },
  {
   "cell_type": "markdown",
   "id": "13be6bd4-9b7d-4ebd-950c-df4e796b7389",
   "metadata": {},
   "source": [
    "Some common post-hoc tests include:\n",
    "\n",
    "1-Tukey's HSD (honestly significant difference): This test compares all possible pairs of means and controls the family-wise error rate, making it a good choice for situations where multiple comparisons are being made.\n",
    "\n",
    "2-Bonferroni correction: This test is a more conservative alternative to Tukey's HSD and adjusts the alpha level for each comparison. It is a good choice when making a small number of comparisons.\n",
    "\n",
    "3-Scheffe's test: This test is a conservative test that can be used when the sample sizes are unequal, and there are more than two groups.\n",
    "\n",
    "4-Dunnett's test: This test is used when there is a control group and the other groups are being compared to the control.\n",
    "\n",
    "5-Games-Howell test: This test is used when the assumption of equal variances across groups is not met.\n",
    "\n",
    "A situation where a post-hoc test might be necessary is if an ANOVA indicates a significant difference between at least two groups, but it is unclear which specific groups are different from each other. For example, a researcher might conduct an ANOVA to compare the mean scores of three different treatment groups on a measure of anxiety. If the ANOVA shows a significant difference between the groups, a post-hoc test such as Tukey's HSD or Bonferroni correction can be used to determine which specific groups differ from each other in terms of their anxiety scores."
   ]
  },
  {
   "cell_type": "markdown",
   "id": "5b465e8f-26ce-4ee2-b957-ac45409fed4c",
   "metadata": {},
   "source": [
    "# Q9. A researcher wants to compare the mean weight loss of three diets: A, B, and C. They collect data from 50 participants who were randomly assigned to one of the diets. Conduct a one-way ANOVA using Python to determine if there are any significant differences between the mean weight loss of the three diets. Report the F-statistic and p-value, and interpret the results."
   ]
  },
  {
   "cell_type": "code",
   "execution_count": 16,
   "id": "9d90f941-25e3-4e66-b947-80865282671c",
   "metadata": {},
   "outputs": [
    {
     "name": "stdout",
     "output_type": "stream",
     "text": [
      "F-statistic: 47.67360331577585\n",
      "p-value: 6.511859804819824e-14\n",
      "There is evidence of significant differences between the mean weight loss of the three diets.\n"
     ]
    }
   ],
   "source": [
    "import pandas as pd\n",
    "import scipy.stats as stats\n",
    "\n",
    "# create a dataframe with the weight loss data for each diet\n",
    "data = {'Diet A': [5.2, 4.5, 3.7, 4.1, 5.0, 4.9, 4.6, 4.4, 4.8, 4.2, 4.7, 4.9, 4.3, 4.0, 4.6, 3.8, 4.5, 4.1, 4.7, 4.4, 4.2, 4.3, 4.0, 3.6, 4.8],\n",
    "        'Diet B': [4.7, 4.4, 4.2, 4.0, 4.5, 4.1, 4.3, 4.8, 4.6, 4.5, 4.0, 3.9, 3.8, 3.7, 4.1, 4.2, 4.5, 3.9, 3.5, 3.8, 3.6, 3.7, 3.9, 3.5, 4.1],\n",
    "        'Diet C': [3.5, 3.7, 3.8, 3.1, 3.6, 3.9, 3.4, 3.2, 3.5, 3.4, 3.3, 3.7, 3.1, 3.6, 3.8, 3.5, 3.4, 3.6, 3.9, 3.1, 3.3, 3.0, 3.2, 3.1, 3.3]}\n",
    "df = pd.DataFrame(data)\n",
    "\n",
    "# conduct one-way ANOVA\n",
    "f_statistic, p_value = stats.f_oneway(df['Diet A'], df['Diet B'], df['Diet C'])\n",
    "\n",
    "# report results\n",
    "print(\"F-statistic:\", f_statistic)\n",
    "print(\"p-value:\", p_value)\n",
    "\n",
    "if p_value < 0.05:\n",
    "    print(\"There is evidence of significant differences between the mean weight loss of the three diets.\")\n",
    "else:\n",
    "    print(\"There is not enough evidence to conclude that there are significant differences between the mean weight loss of the three diets.\")\n"
   ]
  },
  {
   "cell_type": "markdown",
   "id": "dece613b-c3e4-4cd5-9071-54cff862fe22",
   "metadata": {},
   "source": [
    "# Q10. A company wants to know if there are any significant differences in the average time it takes to complete a task using three different software programs: Program A, Program B, and Program C. They randomly assign 30 employees to one of the programs and record the time it takes each employee to complete the task. Conduct a two-way ANOVA using Python to determine if there are any main effects or interaction effects between the software programs and employee experience level (novice vs. experienced). Report the F-statistics and p-values, and interpret the results."
   ]
  },
  {
   "cell_type": "code",
   "execution_count": 17,
   "id": "67790d72-fb92-412a-9d66-196a0e5a4a51",
   "metadata": {},
   "outputs": [
    {
     "name": "stdout",
     "output_type": "stream",
     "text": [
      "                                sum_sq    df             F    PR(>F)\n",
      "C(program)                4.760003e-28   2.0  4.168670e-29  1.000000\n",
      "C(experience)             1.500000e-01   1.0  2.627311e-02  0.871840\n",
      "C(program):C(experience)  1.120000e+01   2.0  9.808628e-01  0.381568\n",
      "Residual                  3.083000e+02  54.0           NaN       NaN\n"
     ]
    }
   ],
   "source": [
    "import pandas as pd\n",
    "import statsmodels.api as sm\n",
    "from statsmodels.formula.api import ols\n",
    "\n",
    "# create a sample data frame\n",
    "data = {'program': ['A', 'B', 'C'] * 20,\n",
    "        'experience': ['novice'] * 30 + ['experienced'] * 30,\n",
    "        'time': [12, 15, 13, 18, 19, 16, 14, 17, 12, 16, 13, 14, 16, 18, 20, 17, 16, 14, 15, 12] * 3}\n",
    "df = pd.DataFrame(data)\n",
    "\n",
    "model = ols('time ~ C(program) + C(experience) + C(program):C(experience)', data=df).fit()\n",
    "anova_table = sm.stats.anova_lm(model, typ=2)\n",
    "\n",
    "# print ANOVA table\n",
    "print(anova_table)"
   ]
  },
  {
   "cell_type": "markdown",
   "id": "24a22808-94b9-43dc-ab70-5d21201b4c23",
   "metadata": {},
   "source": [
    "From the ANOVA table, we can see that neither the main effect of program nor the main effect of experience is significant, as their p-values are both greater than 0.05. However, the interaction effect between program and experience is also not significant, as its p-value is greater than 0.05. Therefore, we can conclude that there are no significant differences in the average time it takes to complete the task using the three different software programs,"
   ]
  },
  {
   "cell_type": "markdown",
   "id": "b6d67ac5-753a-4b60-9884-566fd8992752",
   "metadata": {},
   "source": [
    "# Q11. An educational researcher is interested in whether a new teaching method improves student test scores. They randomly assign 100 students to either the control group (traditional teaching method) or the experimental group (new teaching method) and administer a test at the end of the semester. Conduct a two-sample t-test using Python to determine if there are any significant differences in test scores between the two groups. If the results are significant, follow up with a post-hoc test to determine which group(s) differ significantly from each other."
   ]
  },
  {
   "cell_type": "code",
   "execution_count": 18,
   "id": "74336814-4828-4cb3-95ed-f36c4d470a67",
   "metadata": {},
   "outputs": [
    {
     "name": "stdout",
     "output_type": "stream",
     "text": [
      "Two-sample t-test results:\n",
      "t-statistic = -2.4757439553787837\n",
      "p-value = 0.014135299962093376\n",
      "Post-hoc test results:\n",
      "   Multiple Comparison of Means - Tukey HSD, FWER=0.05   \n",
      "=========================================================\n",
      " group1    group2    meandiff p-adj  lower  upper  reject\n",
      "---------------------------------------------------------\n",
      "control experimental   3.3729 0.0141 0.6863 6.0596   True\n",
      "---------------------------------------------------------\n"
     ]
    }
   ],
   "source": [
    "import numpy as np\n",
    "from scipy import stats\n",
    "import statsmodels.api as sm\n",
    "from statsmodels.formula.api import ols\n",
    "\n",
    "# generate data for control and experimental groups\n",
    "control_scores = np.random.normal(loc=75, scale=10, size=100)\n",
    "experimental_scores = np.random.normal(loc=80, scale=10, size=100)\n",
    "\n",
    "t_stat, p_val = stats.ttest_ind(control_scores, experimental_scores)\n",
    "print(\"Two-sample t-test results:\")\n",
    "print(\"t-statistic =\", t_stat)\n",
    "print(\"p-value =\", p_val)\n",
    "\n",
    "if p_val < 0.05:\n",
    "    data = {\"score\": np.concatenate([control_scores, experimental_scores]),\n",
    "            \"group\": np.concatenate([np.repeat(\"control\", 100), np.repeat(\"experimental\", 100)])}\n",
    "    df = sm.stats.multicomp.pairwise_tukeyhsd(data[\"score\"], data[\"group\"])\n",
    "\n",
    "    print(\"Post-hoc test results:\")\n",
    "    print(df.summary())"
   ]
  },
  {
   "cell_type": "markdown",
   "id": "932f9fde-1983-4fd2-9798-09d741d30978",
   "metadata": {},
   "source": [
    "# Q12. A researcher wants to know if there are any significant differences in the average daily sales of three retail stores: Store A, Store B, and Store C. They randomly select 30 days and record the sales for each store on those days. Conduct a repeated measures ANOVA using Python to determine if there are any"
   ]
  },
  {
   "cell_type": "code",
   "execution_count": 19,
   "id": "891951f3-792b-4361-96aa-1b9aa39156fa",
   "metadata": {},
   "outputs": [
    {
     "name": "stdout",
     "output_type": "stream",
     "text": [
      "               Anova\n",
      "===================================\n",
      "      F Value Num DF  Den DF Pr > F\n",
      "-----------------------------------\n",
      "store 46.4540 2.0000 58.0000 0.0000\n",
      "===================================\n",
      "\n"
     ]
    }
   ],
   "source": [
    "import pandas as pd\n",
    "import numpy as np\n",
    "from scipy.stats import f_oneway\n",
    "from statsmodels.stats.anova import AnovaRM\n",
    "from statsmodels.stats.multicomp import pairwise_tukeyhsd\n",
    "\n",
    "#generate sample data\n",
    "store_a_sales = np.random.normal(1000, 100, 30)\n",
    "store_b_sales = np.random.normal(1200, 150, 30)\n",
    "store_c_sales = np.random.normal(900, 120, 30)\n",
    "\n",
    "sales_df = pd.DataFrame({\n",
    "    'Store A': store_a_sales,\n",
    "    'Store B': store_b_sales,\n",
    "    'Store C': store_c_sales\n",
    "})\n",
    "\n",
    "sales_df_melted = pd.melt(sales_df.reset_index(), id_vars=['index'], value_vars=['Store A', 'Store B', 'Store C'])\n",
    "sales_df_melted.columns = ['day', 'store', 'sales']\n",
    "\n",
    "# Perform repeated measures ANOVA\n",
    "rm_anova = AnovaRM(sales_df_melted, 'sales', 'day', within=['store'])\n",
    "res = rm_anova.fit()\n",
    "print(res)"
   ]
  },
  {
   "cell_type": "markdown",
   "id": "733370f4-282e-4288-ab11-59565e7cd657",
   "metadata": {},
   "source": []
  }
 ],
 "metadata": {
  "kernelspec": {
   "display_name": "Python 3 (ipykernel)",
   "language": "python",
   "name": "python3"
  },
  "language_info": {
   "codemirror_mode": {
    "name": "ipython",
    "version": 3
   },
   "file_extension": ".py",
   "mimetype": "text/x-python",
   "name": "python",
   "nbconvert_exporter": "python",
   "pygments_lexer": "ipython3",
   "version": "3.10.8"
  }
 },
 "nbformat": 4,
 "nbformat_minor": 5
}
