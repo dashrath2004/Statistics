{
 "cells": [
  {
   "cell_type": "markdown",
   "id": "61ae8893-2a84-481f-9890-d6524c7ee6b6",
   "metadata": {},
   "source": [
    "Q1. What are the three measures of central tendency?"
   ]
  },
  {
   "cell_type": "markdown",
   "id": "dab8489a-02d5-400a-bb2c-566845a7f0c7",
   "metadata": {},
   "source": [
    "The three most common measures of central tendency are the mode, median, and mean :\n",
    "\n",
    "Mode: the most frequent value.\n",
    "\n",
    "Median: the middle number in an ordered dataset.\n",
    "\n",
    "Mean: the sum of all values divided by the total number of values."
   ]
  },
  {
   "cell_type": "markdown",
   "id": "947ad89b-c6a8-4192-aeb3-2dd51be62db6",
   "metadata": {},
   "source": [
    "Q2. What is the difference between the mean, median, and mode? How are they used to           measure the central tendency of a dataset?"
   ]
  },
  {
   "cell_type": "markdown",
   "id": "eefd5029-297a-4cc0-b2e9-a40cdc7e5ca2",
   "metadata": {},
   "source": [
    "The mean is the average of the values in a dataset. The median is the middle value when the data is sorted. The mode is the most frequent value in the dataset. They are used to measure the central tendency of a dataset, which means how the data is clustered around a central value.\n",
    "\n",
    "Some additional sentences that could be added if there was more space:\n",
    "\n",
    "The mean is affected by outliers, which are extreme values that are much higher or lower than the rest of the data. The median and mode are more resistant to outliers.\n",
    "The mean is useful when the data is symmetric and has no outliers. The median is useful when the data is skewed or has outliers. The mode is useful when the data is categorical or has a clear peak."
   ]
  },
  {
   "cell_type": "markdown",
   "id": "7dd5ca86-adef-4c08-9822-13512a24a014",
   "metadata": {},
   "source": [
    "Q3. Measure the three measures of central tendency for the given height data:\n",
    "[178,177,176,177,178.2,178,175,179,180,175,178.9,176.2,177,172.5,178,176.5]"
   ]
  },
  {
   "cell_type": "code",
   "execution_count": 1,
   "id": "01910f40-e174-41ef-a4c8-c2c610ca15c7",
   "metadata": {},
   "outputs": [],
   "source": [
    "import numpy as np"
   ]
  },
  {
   "cell_type": "code",
   "execution_count": 2,
   "id": "b83d7a27-0236-4867-bed0-b1456ea8769e",
   "metadata": {
    "tags": []
   },
   "outputs": [],
   "source": [
    "height = [178,177,176,177,178.2,178,175,179,180,175,178.9,176.2,177,172.5,178,176.5]"
   ]
  },
  {
   "cell_type": "code",
   "execution_count": 3,
   "id": "63176353-2c79-4220-a348-259e05e3219b",
   "metadata": {},
   "outputs": [
    {
     "data": {
      "text/plain": [
       "177.01875"
      ]
     },
     "execution_count": 3,
     "metadata": {},
     "output_type": "execute_result"
    }
   ],
   "source": [
    "np.mean(height)"
   ]
  },
  {
   "cell_type": "code",
   "execution_count": 4,
   "id": "8c09c783-9725-4be5-8b8d-1cf1a321d9e0",
   "metadata": {},
   "outputs": [
    {
     "data": {
      "text/plain": [
       "177.0"
      ]
     },
     "execution_count": 4,
     "metadata": {},
     "output_type": "execute_result"
    }
   ],
   "source": [
    "np.median(height)"
   ]
  },
  {
   "cell_type": "code",
   "execution_count": 5,
   "id": "bcd7f704-0ba1-4ff0-97f0-de6c841e0fd0",
   "metadata": {},
   "outputs": [],
   "source": [
    "from scipy import stats"
   ]
  },
  {
   "cell_type": "code",
   "execution_count": 6,
   "id": "1076effe-15ab-48af-8d58-02845018dcf9",
   "metadata": {},
   "outputs": [
    {
     "name": "stderr",
     "output_type": "stream",
     "text": [
      "/tmp/ipykernel_632/1690947930.py:1: FutureWarning: Unlike other reduction functions (e.g. `skew`, `kurtosis`), the default behavior of `mode` typically preserves the axis it acts along. In SciPy 1.11.0, this behavior will change: the default value of `keepdims` will become False, the `axis` over which the statistic is taken will be eliminated, and the value None will no longer be accepted. Set `keepdims` to True or False to avoid this warning.\n",
      "  stats.mode(height)\n"
     ]
    },
    {
     "data": {
      "text/plain": [
       "ModeResult(mode=array([177.]), count=array([3]))"
      ]
     },
     "execution_count": 6,
     "metadata": {},
     "output_type": "execute_result"
    }
   ],
   "source": [
    "stats.mode(height)"
   ]
  },
  {
   "cell_type": "code",
   "execution_count": null,
   "id": "40b48df1-7fd4-41f6-a1ba-0f8ae24c81b4",
   "metadata": {},
   "outputs": [],
   "source": []
  },
  {
   "cell_type": "markdown",
   "id": "8e84faa4-15b2-4ac4-89bb-ae2d69004ca5",
   "metadata": {},
   "source": [
    "Q4. Find the standard deviation for the given data:\n",
    "[178,177,176,177,178.2,178,175,179,180,175,178.9,176.2,177,172.5,178,176.5]"
   ]
  },
  {
   "cell_type": "code",
   "execution_count": 7,
   "id": "4556c30b-f97c-475d-b54e-8883359f42c1",
   "metadata": {},
   "outputs": [],
   "source": [
    "data = [178,177,176,177,178.2,178,175,179,180,175,178.9,176.2,177,172.5,178,176.5]"
   ]
  },
  {
   "cell_type": "code",
   "execution_count": 8,
   "id": "294c0d3c-f98e-45be-b84e-a9050fcf4a33",
   "metadata": {},
   "outputs": [
    {
     "data": {
      "text/plain": [
       "1.7885814036548633"
      ]
     },
     "execution_count": 8,
     "metadata": {},
     "output_type": "execute_result"
    }
   ],
   "source": [
    "np.std(data)"
   ]
  },
  {
   "cell_type": "code",
   "execution_count": null,
   "id": "c8113be0-4037-4e18-9a6a-19a81267ff52",
   "metadata": {},
   "outputs": [],
   "source": []
  },
  {
   "cell_type": "markdown",
   "id": "55e04a3b-28bb-40b0-977c-de70536fa4cc",
   "metadata": {},
   "source": [
    "Q5. How are measures of dispersion such as range, variance, and standard deviation used to describe the spread of a dataset? Provide an example."
   ]
  },
  {
   "cell_type": "markdown",
   "id": "e897c604-1017-4921-8bc7-b2aa4cf63644",
   "metadata": {},
   "source": [
    "Measures of dispersion are non-negative real numbers that help to gauge the spread of data about a central value. They are useful to describe how diverse or similar the data values are. For example, if the data values are all close to the mean, then the dispersion is low; if the data values are far from the mean, then the dispersion is high.\n",
    "\n",
    "Some common measures of dispersion are:\n",
    "\n",
    "Range: The difference between the maximum and minimum values in the data set. It gives a rough idea of how large the data values can be, but it does not account for the distribution of the data.\n",
    "\n",
    "Variance: The average of the squared differences between each data value and the mean. It measures how far the data values are from the mean, but it is not in the same units as the data.\n",
    "\n",
    "Standard deviation: The square root of the variance. It measures how far the data values are from the mean, and it is in the same units as the data.\n",
    "\n",
    "For example, suppose we have a data set of 10 test scores: 50, 60, 70, 80, 90, 100, 110, 120, 130, 140. \n",
    "\n",
    "The mean of this data set is 95. \n",
    "The range is 140 - 50 = 90. \n",
    "The variance is (50 - 95)^2 + (60 - 95)^2 + … + (140 - 95)^2 / 10 = 810. \n",
    "The standard deviation is sqrt(810) = 28.46."
   ]
  },
  {
   "cell_type": "code",
   "execution_count": null,
   "id": "fd7ac340-04e2-47db-9f16-95faaebb2aba",
   "metadata": {},
   "outputs": [],
   "source": []
  },
  {
   "cell_type": "markdown",
   "id": "ea74334f-b137-4c01-9483-755f285c6828",
   "metadata": {},
   "source": [
    "Q6. What is a Venn diagram?"
   ]
  },
  {
   "cell_type": "markdown",
   "id": "230777e7-098e-4df5-afa8-93577a5a4d6e",
   "metadata": {},
   "source": [
    "A Venn diagram is an illustration that uses circles to show the relationships among things or finite groups of things. Circles that overlap have a commonality while circles that do not overlap do not share those traits. Venn diagrams help to visually represent the similarities and differences between two concepts."
   ]
  },
  {
   "cell_type": "code",
   "execution_count": null,
   "id": "a2b33c7e-1b8c-4818-89b8-34560d458704",
   "metadata": {},
   "outputs": [],
   "source": []
  },
  {
   "attachments": {
    "22126dee-cf20-48f8-bbcf-9448f8766bc5.jpeg": {
     "image/jpeg": "[encoded data removed]"
    }
   },
   "cell_type": "markdown",
   "id": "2a101b28-f538-4e41-a72d-65f1f8c4e22a",
   "metadata": {},
   "source": [
    "Q7. For the two given sets A = (2,3,4,5,6,7) & B = (0,2,6,8,10). Find: ![Web capture_30-7-2023_114613_drive.google.com.jpeg](attachment:22126dee-cf20-48f8-bbcf-9448f8766bc5.jpeg)\n",
    "(ii) A ⋃ B"
   ]
  },
  {
   "attachments": {
    "a692ce36-8a6e-46dc-8f06-9a9779bf79d9.jpeg": {
     "image/jpeg": "[encoded data removed]"
    }
   },
   "cell_type": "markdown",
   "id": "cc1cecb5-05f2-4451-a555-f396f7625ff1",
   "metadata": {},
   "source": [
    "![Web capture_30-7-2023_114613_drive.google.com.jpeg](attachment:a692ce36-8a6e-46dc-8f06-9a9779bf79d9.jpeg) : 2 , 6 \n",
    "\n",
    "(ii) A ⋃ B : 0 , 2 , 3 , 4 , 5 , 6 , 7 , 8 , 10"
   ]
  },
  {
   "cell_type": "code",
   "execution_count": null,
   "id": "732741c2-312b-4833-9403-51731a9b5cff",
   "metadata": {},
   "outputs": [],
   "source": []
  },
  {
   "cell_type": "markdown",
   "id": "0aae38f5-5e8a-4b4f-8795-4f60b7e4ae63",
   "metadata": {},
   "source": [
    "Q8. What do you understand about skewness in data?"
   ]
  },
  {
   "cell_type": "markdown",
   "id": "7c93c105-b523-44cd-b3c4-92334a86e8b4",
   "metadata": {},
   "source": [
    "Skewness is a measure of how asymmetric or distorted a distribution is from a symmetrical or normal distribution. Skewness can be quantified and indicates the direction and magnitude of the deviation. Skewness affects the mean, median, and mode of the data and can have implications for statistical inference and modeling. Skewness can be positive or negative, depending on whether the data is skewed to the right or to the left of the median."
   ]
  },
  {
   "cell_type": "markdown",
   "id": "4661ff47-6126-47ab-8afe-cf216bf4cec4",
   "metadata": {},
   "source": [
    "Q9. If a data is right skewed then what will be the position of median with respect to mean?"
   ]
  },
  {
   "cell_type": "markdown",
   "id": "aa5ed47c-f973-454f-9ed6-57cd0dd6c43a",
   "metadata": {},
   "source": [
    "If a data is right skewed then will be the position of median with respect to mean -    The mean is greater than the median - Mean>median"
   ]
  },
  {
   "cell_type": "markdown",
   "id": "931d4344-d05f-4bd6-8fa7-7666ff4bdf90",
   "metadata": {},
   "source": [
    "Q10. Explain the difference between covariance and correlation. How are these measures used in statistical analysis?"
   ]
  },
  {
   "cell_type": "markdown",
   "id": "1536e264-37bb-4109-b1d5-dad4fd6a2dc3",
   "metadata": {},
   "source": [
    "Covariance and correlation are two statistical concepts used to determine the relationship between two random variables. The main difference is that correlation measures both the strength and the direction of the linear relationship, while covariance only measures the direction. Correlation is also dimensionless, meaning it does not depend on the units of the variables, while covariance does. Correlation values range from -1 to 1, where -1 indicates a perfect negative relationship, 0 indicates no relationship, and 1 indicates a perfect positive relationship. Covariance values can be any number, where positive values indicate a positive relationship, negative values indicate a negative relationship, and zero indicates no relationship.\n",
    "\n",
    "These measures are used in statistical analysis to quantify how two variables change together. For example, covariance can be used to measure how the stock prices of two companies vary together, while correlation can be used to measure how strongly they are related. Correlation can also be used to test for causal relationships between variables, such as how smoking affects lung cancer risk. However, correlation does not imply causation, meaning that other factors may be involved in the relationship\n",
    "These measures are used in statistical analysis to quantify how two variables change together. For example, covariance can be used to measure how the stock prices of two companies vary together, while correlation can be used to measure how strongly they are related. Correlation can also be used to test for causal relationships between variables, such as how smoking affects lung cancer risk. However, correlation does not imply causation, meaning that other factors may be involved in the relationship."
   ]
  },
  {
   "cell_type": "markdown",
   "id": "3e03b6ec-5247-4112-987d-3b57353fdcf7",
   "metadata": {},
   "source": [
    "Q11. What is the formula for calculating the sample mean? Provide an example calculation for a dataset."
   ]
  },
  {
   "cell_type": "markdown",
   "id": "463ed9fb-a890-4651-90f8-3fa2899f22fb",
   "metadata": {},
   "source": [
    "The formula for calculating the sample mean is x̄ = (Σ xi) / n where x̄ is the sample mean, Σ means to add, xi are the values in the sample and n is the number of values in the sample.\n",
    "\n",
    "For example, if the sample is {2, 4, 6, 8}, then the sample mean is x̄ = (2 + 4 + 6 + 8) / 4 = 5."
   ]
  },
  {
   "cell_type": "markdown",
   "id": "518548a4-bb44-4375-ba71-227671f425a8",
   "metadata": {},
   "source": [
    "Q12. For a normal distribution data what is the relationship between its measure of central tendency?"
   ]
  },
  {
   "cell_type": "markdown",
   "id": "4234e675-ca97-4bbc-bcbd-4b7d0160df05",
   "metadata": {},
   "source": [
    "The relationship between the measure of central tendency and the normal distribution data is that the mean, median and mode are equal and they all represent the x-value of the peak of the symmetric graph."
   ]
  },
  {
   "cell_type": "markdown",
   "id": "59e78066-33f1-408b-9f5c-deaa19de85f2",
   "metadata": {},
   "source": [
    "Q13. How is covariance different from correlation?"
   ]
  },
  {
   "cell_type": "markdown",
   "id": "ad8595e9-ad93-499b-93d7-413e1c1a6dbf",
   "metadata": {},
   "source": [
    "Covariance and correlation are both measures of the linear relationship between two variables. However, covariance depends on the units of the variables and only indicates the direction of the relationship, while correlation is unitless and indicates both the direction and strength of the relationship. Correlation is also a scaled version of covariance that ranges from -1 to 1"
   ]
  },
  {
   "cell_type": "markdown",
   "id": "4926cad0-8c18-4f23-a311-5f68f59f5186",
   "metadata": {},
   "source": [
    "Q14. How do outliers affect measures of central tendency and dispersion? Provide an example."
   ]
  },
  {
   "cell_type": "markdown",
   "id": "0ae536a1-b747-4fe7-8c57-33c398305920",
   "metadata": {},
   "source": [
    "Outliers affect measures of central tendency and dispersion in the following ways:\n",
    "\n",
    "They inflate the mean value.\n",
    "They have little effect on the median or mode.\n",
    "The mode may become useless as a measure of central tendency.\n",
    "\n",
    "Outliers are extreme values that deviate from the rest of the data. They can affect the measures of central tendency (mean, median and mode) and dispersion (range, standard deviation, etc.) by making them less representative of the data.\n",
    "\n",
    "For example, if we have a dataset of 10 values: {1, 2, 3, 4, 5, 6, 7, 8, 9, 100}, the mean is 14.5 and the standard deviation is 29.8. However, if we remove the outlier (100), the mean becomes 5 and the standard deviation becomes 2.6. The mean and standard deviation are more affected by outliers than the median and range."
   ]
  }
 ],
 "metadata": {
  "kernelspec": {
   "display_name": "Python 3 (ipykernel)",
   "language": "python",
   "name": "python3"
  },
  "language_info": {
   "codemirror_mode": {
    "name": "ipython",
    "version": 3
   },
   "file_extension": ".py",
   "mimetype": "text/x-python",
   "name": "python",
   "nbconvert_exporter": "python",
   "pygments_lexer": "ipython3",
   "version": "3.10.8"
  }
 },
 "nbformat": 4,
 "nbformat_minor": 5
}
