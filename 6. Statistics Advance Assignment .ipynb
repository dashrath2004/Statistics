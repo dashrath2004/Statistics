{
 "cells": [
  {
   "cell_type": "markdown",
   "id": "aa2a30d9-fd36-4c63-ba49-c21994a5dd81",
   "metadata": {},
   "source": [
    "Q1: What is the difference between a t-test and a z-test? Provide an example scenario where you would\n",
    "use each type of test."
   ]
  },
  {
   "cell_type": "markdown",
   "id": "2af85de0-7b81-4096-913e-9923aa580f3e",
   "metadata": {},
   "source": [
    "ANS : The t-test vs z-test are hypothesis tests used to determine whether there is a significant difference between the means of two groups or populations. Use a t-test for small samples (n < 30) or when the population variance is unknown; use a z-test when the population variance is known, and the sample size is large (n > 30)."
   ]
  },
  {
   "cell_type": "markdown",
   "id": "42bf6b15-2c48-40b6-8127-83d5b4eaed37",
   "metadata": {},
   "source": [
    "Q2: Differentiate between one-tailed and two-tailed tests."
   ]
  },
  {
   "cell_type": "markdown",
   "id": "2491e114-001b-4714-8706-12fa2e383fd2",
   "metadata": {},
   "source": [
    "ANS : A one-tailed test is used when you have a specific direction of the difference between two groups, such as one group being better or worse than the other. A two-tailed test is used when you have a general hypothesis of the difference between two groups, but do not know which one will be better or worse. A two-tailed test is more conservative and requires a more extreme test statistic to reject the null hypothesis."
   ]
  },
  {
   "cell_type": "markdown",
   "id": "1cde3942-591b-4f3b-a166-acb5b2a3b986",
   "metadata": {},
   "source": [
    "Q3: Explain the concept of Type 1 and Type 2 errors in hypothesis testing. Provide an example scenario for\n",
    "each type of error."
   ]
  },
  {
   "cell_type": "markdown",
   "id": "08941843-52c4-43e4-91b4-ad4d258213e0",
   "metadata": {},
   "source": [
    "ANS : A Type 1 error is when you reject a true null hypothesis, which means you get a false positive result. \n",
    "For example, if you test whether a coin is fair and you conclude that it is biased based on a small sample of flips, you might have made a Type 1 error.\n",
    "\n",
    "A Type 2 error is when you fail to reject a false null hypothesis, which means you get a false negative result. \n",
    "For example, if you test whether a new drug is effective and you conclude that it is not based on a small sample of patients, you might have made a Type 2 error."
   ]
  },
  {
   "cell_type": "markdown",
   "id": "d46511fd-c608-419a-8b79-7e3ced0ad7e7",
   "metadata": {},
   "source": [
    "Q4: Explain Bayes's theorem with an example."
   ]
  },
  {
   "cell_type": "markdown",
   "id": "c746eb45-9f52-45d2-94f9-6a138c08fcb6",
   "metadata": {},
   "source": [
    "ANS : Bayes’ theorem is a formula that describes how to update the probabilities of hypotheses when given evidence. It relates the conditional and marginal probabilities of events A and B, as well as the joint probability of A and B. The formula is:\n",
    "\n",
    "P(A|B) = P(B|A)P(A)/P(B)\n",
    "\n",
    "where P(B) is not zero.\n",
    "\n",
    "For example, suppose you want to know the probability of having a disease (event A) given that you have a positive test result (event B). You can use Bayes’ theorem to calculate P(A|B) based on the following information:\n",
    "\n",
    "P(A) is the prior probability of having the disease, which is 0.01 (1%).\n",
    "P(B|A) is the probability of having a positive test result given that you have the disease, which is 0.9 (90%).\n",
    "P(B) is the probability of having a positive test result, which can be calculated using the law of total probability as:\n",
    "P(B) = P(B|A)P(A) + P(B|not A)P(not A)\n",
    "\n",
    "where P(B|not A) is the probability of having a positive test result given that you do not have the disease, which is 0.05 (5%), and P(not A) is the probability of not having the disease, which is 0.99 (99%).\n",
    "\n",
    "Plugging in these values, we get:\n",
    "\n",
    "P(B) = 0.9 x 0.01 + 0.05 x 0.99 = 0.0594\n",
    "\n",
    "Then, using Bayes’ theorem, we get:\n",
    "\n",
    "P(A|B) = 0.9 x 0.01 / 0.0594 = 0.1518\n",
    "\n",
    "This means that the probability of having the disease given that you have a positive test result is about 15%."
   ]
  },
  {
   "cell_type": "markdown",
   "id": "98c37a1c-9635-4de6-a55f-dda27711ac0f",
   "metadata": {},
   "source": [
    "Q5: What is a confidence interval? How to calculate the confidence interval, explain with an example."
   ]
  },
  {
   "cell_type": "markdown",
   "id": "a3a798aa-f79c-49a0-88db-04d41d14ce07",
   "metadata": {},
   "source": [
    "ANS : A confidence interval is a range of values that is likely to contain an unknown population parameter, such as a mean or a proportion. The confidence interval is based on a sample statistic and a confidence level, which reflects how certain we are that the interval contains the true parameter.\n",
    "\n",
    "To calculate a confidence interval, you need to know the following information:\n",
    "\n",
    "The sample statistic, such as the sample mean or proportion\n",
    "The standard error of the sample statistic, which measures how much the statistic varies from sample to sample\n",
    "The confidence level, which is usually expressed as a percentage (such as 90%, 95%, or 99%)\n",
    "The critical value, which is a number that depends on the confidence level and the shape of the sampling distribution\n",
    "The general formula for a confidence interval is:\n",
    "\n",
    "sample statistic ± (critical value × standard error)\n",
    "\n",
    "For example, suppose you want to estimate the mean height of adult males in a country based on a random sample of 100 males. You find that the sample mean is 175 cm and the sample standard deviation is 10 cm. You want to construct a 95% confidence interval for the population mean.\n",
    "\n",
    "To do this, you need to calculate the standard error of the sample mean, which is:\n",
    "\n",
    "standard error = sample standard deviation / √sample size = 10 / √100 = 1\n",
    "\n",
    "Then, you need to find the critical value for a 95% confidence level. Assuming that the sampling distribution of the mean is approximately normal, you can use a z-table or a calculator to find that the critical value is 1.96.\n",
    "\n",
    "Using the formula, the confidence interval is:\n",
    "\n",
    "175 ± (1.96 × 1) = [173.04, 176.96]\n",
    "\n",
    "This means that you are 95% confident that the true mean height of adult males in the country is between 173.04 cm and 176.96 cm.\n",
    "\n",
    "You can learn more about confidence intervals and see more examples from these sources:"
   ]
  },
  {
   "cell_type": "markdown",
   "id": "648fa777-1c2d-4f0a-9c95-b1a6e240f1d3",
   "metadata": {},
   "source": [
    "Q6. Use Bayes' Theorem to calculate the probability of an event occurring given prior knowledge of the\n",
    "event's probability and new evidence. Provide a sample problem and solution."
   ]
  },
  {
   "cell_type": "markdown",
   "id": "c72a5da6-1735-49a1-abdf-58cb281b1878",
   "metadata": {},
   "source": [
    "ANS : Bayes’ theorem is a formula that allows us to calculate the probability of an event (A) given some evidence (B) that is related to that event. The formula is:\n",
    "\n",
    "P(A|B) = P(B|A)P(A)/P(B)\n",
    "\n",
    "where P(A) is the prior probability of event A, P(B|A) is the likelihood of evidence B given event A, P(B) is the marginal probability of evidence B, and P(A|B) is the posterior probability of event A given evidence B.\n",
    "\n",
    "To use Bayes’ theorem, we need to know or estimate these probabilities based on the problem context and the available data. Here is a sample problem and solution using Bayes’ theorem.\n",
    "\n",
    "Problem: A diagnostic test for a certain disease has a 99% accuracy rate, meaning that it correctly identifies 99% of the people who have the disease and 99% of the people who do not have the disease. The disease affects 1% of the population. If a person tests positive for the disease, what is the probability that they actually have the disease?\n",
    "\n",
    "Solution: Let A be the event that a person has the disease, and B be the event that a person tests positive for the disease. We want to find P(A|B), the probability that a person has the disease given that they test positive.\n",
    "\n",
    "Using Bayes’ theorem, we have:\n",
    "\n",
    "P(A|B) = P(B|A)P(A)/P(B)\n",
    "\n",
    "We know or can estimate the following probabilities:\n",
    "\n",
    "P(A) is the prior probability of having the disease, which is 0.01 (1%).\n",
    "P(B|A) is the probability of testing positive given that a person has the disease, which is 0.99 (99%).\n",
    "P(B) is the probability of testing positive, which can be calculated using the law of total probability as:\n",
    "P(B) = P(B|A)P(A) + P(B|not A)P(not A)\n",
    "\n",
    "where P(B|not A) is the probability of testing positive given that a person does not have the disease, which is 0.01 (1%), and P(not A) is the probability of not having the disease, which is 0.99 (99%).\n",
    "\n",
    "Plugging in these values, we get:\n",
    "\n",
    "P(B) = 0.99 x 0.01 + 0.01 x 0.99 = 0.0198\n",
    "\n",
    "Then, using Bayes’ theorem, we get:\n",
    "\n",
    "P(A|B) = 0.99 x 0.01 / 0.0198 = 0.5\n",
    "\n",
    "This means that the probability of having the disease given that a person tests positive is only 50%. This may seem surprising, but it is because the disease is very rare in the population, and the test has a small chance of giving false positives."
   ]
  },
  {
   "cell_type": "markdown",
   "id": "166e4667-e395-4438-9877-20392a12bf69",
   "metadata": {},
   "source": [
    "Q7. Calculate the 95% confidence interval for a sample of data with a mean of 50 and a standard deviation\n",
    "of 5. Interpret the results."
   ]
  },
  {
   "cell_type": "markdown",
   "id": "429f3cd7-8272-4004-bcca-b872de5be8ee",
   "metadata": {},
   "source": [
    "ANS : To calculate the 95% confidence interval, you need to use the following formula1:\n",
    "\n",
    "Confidence interval (CI) = x̄ ± z * s / √n\n",
    "\n",
    "Where:\n",
    "\n",
    "x̄ is the sample mean\n",
    "z is the z-value for the confidence level (1.96 for 95%)\n",
    "s is the population standard deviation\n",
    "n is the sample size\n",
    "Using the given data, we can plug in the values:\n",
    "\n",
    "CI = 50 ± 1.96 * 5 / √100\n",
    "\n",
    "CI = 50 ± 0.98\n",
    "\n",
    "CI = 49.02 to 50.98\n",
    "\n",
    "This means that we are 95% confident that the true population mean is between 49.02 and 50.98."
   ]
  },
  {
   "cell_type": "markdown",
   "id": "9f1de542-8aa0-457a-9866-f06e8d5323d8",
   "metadata": {},
   "source": [
    "Q8. What is the margin of error in a confidence interval? How does sample size affect the margin of error?\n",
    "Provide an example of a scenario where a larger sample size would result in a smaller margin of error."
   ]
  },
  {
   "cell_type": "markdown",
   "id": "63b4e531-abb0-47d3-87d6-a42259075553",
   "metadata": {},
   "source": [
    "ANS : The margin of error is the amount of random sampling error in the results of a survey1. It tells you how much the survey results may differ from the true population value. A larger margin of error means less confidence in the survey results.\n",
    "\n",
    "The margin of error depends on the confidence level, the population standard deviation, and the sample size. The formula for the margin of error is:\n",
    "\n",
    "Margin of error = z * s / √n\n",
    "\n",
    "Where:\n",
    "\n",
    "z is the z-value for the confidence level\n",
    "s is the population standard deviation\n",
    "n is the sample size\n",
    "The margin of error is inversely proportional to the sample size. This means that a larger sample size will result in a smaller margin of error, and vice versa. A larger sample size reduces the sampling error and makes the survey results more precise.\n",
    "\n",
    "An example of a scenario where a larger sample size would result in a smaller margin of error is:\n",
    "\n",
    "Suppose you want to estimate the average height of students in a school with 95% confidence and a margin of error of 1 inch. You know that the population standard deviation is 3 inches. Using the formula, you can find the required sample size:\n",
    "\n",
    "Margin of error = z * s / √n\n",
    "\n",
    "1 = 1.96 * 3 / √n\n",
    "\n",
    "√n = 1.96 * 3 / 1\n",
    "\n",
    "n = (1.96 * 3 / 1)^2\n",
    "\n",
    "n = 34.57\n",
    "\n",
    "You need to round up to get a whole number, so n = 35.\n",
    "\n",
    "Now suppose you want to reduce the margin of error to 0.5 inch, keeping the confidence level and population standard deviation the same. You can use the formula again to find the new sample size:\n",
    "\n",
    "Margin of error = z * s / √n\n",
    "\n",
    "0.5 = 1.96 * 3 / √n\n",
    "\n",
    "√n = 1.96 * 3 / 0.5\n",
    "\n",
    "n = (1.96 * 3 / 0.5)^2\n",
    "\n",
    "n = 138.29\n",
    "\n",
    "You need to round up to get a whole number, so n = 139.\n",
    "\n",
    "This shows that by increasing the sample size from 35 to 139, you can reduce the margin of error from 1 inch to 0.5 inch."
   ]
  },
  {
   "cell_type": "markdown",
   "id": "b0a01674-4808-40e0-a9a9-05bb0281f978",
   "metadata": {},
   "source": [
    "Q9. Calculate the z-score for a data point with a value of 75, a population mean of 70, and a population\n",
    "standard deviation of 5. Interpret the results."
   ]
  },
  {
   "cell_type": "markdown",
   "id": "35200105-bc5a-4c29-be52-b4641cf003d2",
   "metadata": {},
   "source": [
    "ANS : To calculate the z-score, you need to use the following formula:\n",
    "\n",
    "z = (x - μ) / σ\n",
    "\n",
    "Where:\n",
    "\n",
    "x is the data point value\n",
    "μ is the population mean\n",
    "σ is the population standard deviation\n",
    "Using the given data, we can plug in the values:\n",
    "\n",
    "z = (75 - 70) / 5\n",
    "\n",
    "z = 5 / 5\n",
    "\n",
    "z = 1\n",
    "\n",
    "This means that the data point is 1 standard deviation above the population mean. A z-score of 1 is considered moderately high, indicating that the data point is above average."
   ]
  },
  {
   "cell_type": "markdown",
   "id": "daea2c1f-1046-430f-adb0-9c8b0d117d94",
   "metadata": {},
   "source": [
    "Q10. In a study of the effectiveness of a new weight loss drug, a sample of 50 participants lost an average\n",
    "of 6 pounds with a standard deviation of 2.5 pounds. Conduct a hypothesis test to determine if the drug is\n",
    "significantly effective at a 95% confidence level using a t-test."
   ]
  },
  {
   "cell_type": "markdown",
   "id": "322d1a56-8c45-45e2-8c8f-209b9bdc2b72",
   "metadata": {},
   "source": [
    "ANS : To conduct a hypothesis test using a t-test, you need to follow these steps1:\n",
    "\n",
    "State the null and alternative hypotheses. In this case, the null hypothesis is that the drug has no effect on weight loss, and the alternative hypothesis is that the drug has a significant effect on weight loss.\n",
    "\n",
    "Choose the significance level. In this case, the significance level is 0.05, corresponding to a 95% confidence level.\n",
    "\n",
    "Calculate the test statistic. In this case, we use a one-sample t-test, since we are comparing a sample mean to a known population mean (zero). The formula for the test statistic is:\n",
    "\n",
    "t = (x̄ - μ) / (s / √n)\n",
    "\n",
    "Where:\n",
    "\n",
    "x̄ is the sample mean\n",
    "μ is the population mean\n",
    "s is the sample standard deviation\n",
    "n is the sample size\n",
    "Using the given data, we can plug in the values:\n",
    "\n",
    "t = (6 - 0) / (2.5 / √50)\n",
    "\n",
    "t = 6 / 0.3536\n",
    "\n",
    "t = 16.95\n",
    "\n",
    "Find the critical value and the p-value. The critical value is the value of t that defines the rejection region for the null hypothesis. The p-value is the probability of obtaining a test statistic at least as extreme as the observed one, assuming that the null hypothesis is true.\n",
    "To find these values, we need to use a t-distribution table or a calculator. Since we are using a one-tailed test (we are interested in whether the drug has a positive effect), we look for the value of t that corresponds to an area of 0.05 in the upper tail of the distribution. Using a table or a calculator, we find that:\n",
    "Critical value = 1.676\n",
    "\n",
    "P-value < 0.0001\n",
    "\n",
    "Draw a conclusion based on the test results. We compare the test statistic to the critical value and the p-value to the significance level. If the test statistic is greater than the critical value, or if the p-value is less than the significance level, we reject the null hypothesis and accept the alternative hypothesis. In this case, both conditions are met:\n",
    "16.95 > 1.676\n",
    "\n",
    "0.0001 < 0.05\n",
    "\n",
    "Therefore, we reject the null hypothesis and conclude that the drug is significantly effective at reducing weight at a 95% confidence level."
   ]
  },
  {
   "cell_type": "markdown",
   "id": "df5f32ec-9242-4b5f-a403-b19979f3414d",
   "metadata": {},
   "source": [
    "Q11. In a survey of 500 people, 65% reported being satisfied with their current job. Calculate the 95%\n",
    "confidence interval for the true proportion of people who are satisfied with their job."
   ]
  },
  {
   "cell_type": "markdown",
   "id": "9ba58927-8af0-41b8-b894-c33260e9be18",
   "metadata": {},
   "source": [
    "ANS : To calculate the 95% confidence interval for the true proportion of people who are satisfied with their job, you can use the following formula:\n",
    "\n",
    "Confidence Interval = p +/- z*√p (1-p) / n\n",
    "\n",
    "where:\n",
    "\n",
    "p: sample proportion\n",
    "\n",
    "z: the chosen z-value\n",
    "\n",
    "n: sample size\n",
    "\n",
    "For a 95% confidence level, the z-value is 1.96.\n",
    "\n",
    "In this case, p = 0.65, n = 500.\n",
    "\n",
    "Plugging these values into the formula, we get:\n",
    "\n",
    "Confidence Interval = 0.65 +/- 1.96*√0.65 (1-0.65) / 500\n",
    "\n",
    "Confidence Interval = [0.608, 0.692]\n",
    "\n",
    "This means that you can be 95% confident that the true proportion of people who are satisfied with their job is between 0.608 and 0.692."
   ]
  },
  {
   "cell_type": "markdown",
   "id": "5c51edb8-ea66-46eb-9a3b-0b7b10ace228",
   "metadata": {},
   "source": [
    "Q12. A researcher is testing the effectiveness of two different teaching methods on student performance.\n",
    "Sample A has a mean score of 85 with a standard deviation of 6, while sample B has a mean score of 82\n",
    "with a standard deviation of 5. Conduct a hypothesis test to determine if the two teaching methods have a\n",
    "significant difference in student performance using a t-test with a significance level of 0.01."
   ]
  },
  {
   "cell_type": "markdown",
   "id": "2476d6ac-e6c2-4d70-b733-d096ed3cc7b2",
   "metadata": {},
   "source": [
    "ANS : To conduct a hypothesis test to determine if the two teaching methods have a significant difference in student performance using a t-test, you need to follow these steps:\n",
    "\n",
    "State the null and alternative hypotheses. The null hypothesis is that the population means of the two samples are equal, and the alternative hypothesis is that they are not equal.\n",
    "Choose a significance level. In this case, it is given as 0.01.\n",
    "Calculate the test statistic using the formula:\n",
    "Test statistic: (x1 – x2) / sp(√1/n1 + 1/n2)\n",
    "\n",
    "where x1 and x2 are the sample means, n1 and n2 are the sample sizes, and where sp is calculated as:\n",
    "\n",
    "sp = √ (n1-1)s12 + (n2-1)s22 / (n1+n2-2)\n",
    "\n",
    "where s12 and s22 are the sample variances.\n",
    "\n",
    "Find the p-value that corresponds to the test statistic with (n1+n2-2) degrees of freedom using a t-distribution table or an online calculator.\n",
    "Compare the p-value to the significance level. If the p-value is less than the significance level, reject the null hypothesis. If the p-value is greater than or equal to the significance level, fail to reject the null hypothesis.\n",
    "Using the given data, we can calculate the test statistic as follows:\n",
    "\n",
    "Test statistic: (85 - 82) / sp(√1/15 + 1/15)\n",
    "\n",
    "sp = √ (146^2 + 145^2) / (15+15-2)\n",
    "\n",
    "sp = √ 1680 / 28\n",
    "\n",
    "sp = √ 60\n",
    "\n",
    "sp = 7.746\n",
    "\n",
    "Test statistic: (85 - 82) / 7.746(√1/15 + 1/15)\n",
    "\n",
    "Test statistic: 3 / 7.746(0.289)\n",
    "\n",
    "Test statistic: 3 / 2.238\n",
    "\n",
    "Test statistic: 1.34\n",
    "\n",
    "we can find that the p-value for this test statistic with 28 degrees of freedom is 0.189.\n",
    "\n",
    "Since this p-value is greater than the significance level of 0.01, we fail to reject the null hypothesis. This means that we do not have enough evidence to conclude that there is a significant difference in student performance between the two teaching methods."
   ]
  },
  {
   "cell_type": "markdown",
   "id": "daab10a4-bcdc-4450-afa2-c407582de612",
   "metadata": {},
   "source": [
    "Q13. A population has a mean of 60 and a standard deviation of 8. A sample of 50 observations has a mean\n",
    "of 65. Calculate the 90% confidence interval for the true population mean."
   ]
  },
  {
   "cell_type": "markdown",
   "id": "16162bfc-fdbc-4de2-b4d5-918c83bb0102",
   "metadata": {},
   "source": [
    "ANS : To calculate the 90% confidence interval for the true population mean, you can use the following formula:\n",
    "\n",
    "Confidence Interval = x +/- z* (s/√n)\n",
    "\n",
    "where:\n",
    "\n",
    "x: sample mean\n",
    "\n",
    "z: the chosen z-value\n",
    "\n",
    "s: population standard deviation\n",
    "\n",
    "n: sample size\n",
    "\n",
    "For a 90% confidence level, the z-value is 1.645.\n",
    "\n",
    "In this case, x = 65, s = 8, n = 50.\n",
    "\n",
    "Plugging these values into the formula, we get:\n",
    "\n",
    "Confidence Interval = 65 +/- 1.645* (8/√50)\n",
    "\n",
    "Confidence Interval = [63.32, 66.68]\n",
    "\n",
    "This means that you can be 90% confident that the true population mean is between 63.32 and 66.68."
   ]
  },
  {
   "cell_type": "markdown",
   "id": "dc613691-9901-43fd-ae76-fb279e310d20",
   "metadata": {},
   "source": [
    "Q14. In a study of the effects of caffeine on reaction time, a sample of 30 participants had an average\n",
    "reaction time of 0.25 seconds with a standard deviation of 0.05 seconds. Conduct a hypothesis test to\n",
    "determine if the caffeine has a significant effect on reaction time at a 90% confidence level using a t-test."
   ]
  },
  {
   "cell_type": "markdown",
   "id": "3398fb10-4d5f-4bbb-a2c6-444b4788c662",
   "metadata": {},
   "source": [
    "ANS : To conduct a hypothesis test to determine if the caffeine has a significant effect on reaction time using a t-test, you need to follow these steps:\n",
    "\n",
    "1. State the null and alternative hypotheses. The null hypothesis is that the population mean of reaction time is equal to some value, and the alternative hypothesis is that it is not equal to that value. You need to specify the value based on some previous research or assumption. For example, if you assume that the population mean of reaction time without caffeine is 0.3 seconds, then your hypotheses are:\n",
    "\n",
    "H0: μ = 0.3\n",
    "\n",
    "H1: μ ≠ 0.3\n",
    "\n",
    "2. Choose a significance level. In this case, it is given as 90%, which means the alpha value is 0.1.\n",
    "3. Calculate the test statistic using the formula:\n",
    "\n",
    "t = (x – μ) / (s/√n)\n",
    "\n",
    "where:\n",
    "\n",
    "x: sample mean\n",
    "\n",
    "μ: hypothesized population mean\n",
    "\n",
    "s: sample standard deviation\n",
    "\n",
    "n: sample size\n",
    "\n",
    "Using the given data, we can calculate the test statistic as follows:\n",
    "\n",
    "t = (0.25 - 0.3) / (0.05/√30)\n",
    "\n",
    "t = -0.05 / 0.0091\n",
    "\n",
    "t = -5.49\n",
    "\n",
    "4. Find the p-value that corresponds to the test statistic with (n-1) degrees of freedom using a t-distribution table.\n",
    "5. Compare the p-value to the significance level. If the p-value is less than the significance level, reject the null hypothesis. If the p-value is greater than or equal to the significance level, fail to reject the null hypothesis.\n",
    "\n",
    "we can find that the p-value for this test statistic with 29 degrees of freedom is 0.00001.\n",
    "\n",
    "Since this p-value is much less than the significance level of 0.1, we reject the null hypothesis. This means that we have enough evidence to conclude that caffeine has a significant effect on reaction time."
   ]
  },
  {
   "cell_type": "code",
   "execution_count": null,
   "id": "46715f3a-9695-4c43-a03d-1ceed2836856",
   "metadata": {},
   "outputs": [],
   "source": []
  }
 ],
 "metadata": {
  "kernelspec": {
   "display_name": "Python 3 (ipykernel)",
   "language": "python",
   "name": "python3"
  },
  "language_info": {
   "codemirror_mode": {
    "name": "ipython",
    "version": 3
   },
   "file_extension": ".py",
   "mimetype": "text/x-python",
   "name": "python",
   "nbconvert_exporter": "python",
   "pygments_lexer": "ipython3",
   "version": "3.10.8"
  }
 },
 "nbformat": 4,
 "nbformat_minor": 5
}
