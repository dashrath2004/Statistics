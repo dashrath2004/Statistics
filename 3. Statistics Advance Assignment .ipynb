{
 "cells": [
  {
   "cell_type": "markdown",
   "id": "01b7821b-3ffe-4551-a472-46402dfea6c7",
   "metadata": {},
   "source": [
    "Q1. What is the Probability density function?"
   ]
  },
  {
   "cell_type": "markdown",
   "id": "9201c127-fe0a-4710-bfd2-6cd6e709369a",
   "metadata": {},
   "source": [
    "A probability density function (PDF) is a function that tells you how likely a continuous random variable is to take a certain value or range of values. For example, the PDF of the height of a person can tell you how likely it is to find someone with a height between 170 cm and 180 cm"
   ]
  },
  {
   "cell_type": "markdown",
   "id": "8cfc634d-a8ca-4b37-a9ee-e68506fae9bb",
   "metadata": {},
   "source": [
    "Q2. What are the types of Probability distribution?"
   ]
  },
  {
   "cell_type": "markdown",
   "id": "49ab23b5-e8e6-4d25-81af-8b72c0d4bba3",
   "metadata": {},
   "source": [
    "There are two main types of probability distributions: discrete and continuous-\n",
    "\n",
    "Discrete probability distributions : Discrete probability distributions are used for random variables that can take only a                                        finite number of values, such as the number of heads in a coin toss. \n",
    "\n",
    "Continuous probability distributions : Discrete probability distributions are used for random variables that can take any                                          value in an interval, such as the height of a person."
   ]
  },
  {
   "cell_type": "markdown",
   "id": "4363e2f1-9830-4a5d-8a98-bd4ea90b1d1b",
   "metadata": {},
   "source": [
    "Q3. Write a Python function to calculate the probability density function of a normal distribution with\n",
    "given mean and standard deviation at a given point."
   ]
  },
  {
   "cell_type": "code",
   "execution_count": 1,
   "id": "a9a1e5d3-564c-4957-9922-a3fbdee37b46",
   "metadata": {},
   "outputs": [],
   "source": [
    "import math\n",
    "\n",
    "def normal_pdf(x, mu, sigma):\n",
    "  # x is the point\n",
    "  # mu is the mean\n",
    "  # sigma is the standard deviation\n",
    "  # returns the probability density function value\n",
    "    \n",
    "  return (1 / (sigma * math.sqrt(2 * math.pi))) * math.exp(-0.5 * ((x - mu) / sigma) ** 2)\n"
   ]
  },
  {
   "cell_type": "markdown",
   "id": "91caff7d-0ff3-459e-8c3e-351f9218ce9d",
   "metadata": {},
   "source": [
    "Q4. What are the properties of Binomial distribution? Give two examples of events where binomial\n",
    "distribution can be applied."
   ]
  },
  {
   "cell_type": "markdown",
   "id": "13b237c2-8ad8-4754-a250-c8ec8e23873d",
   "metadata": {},
   "source": [
    "Some of the properties of the binomial distribution are: \n",
    "\n",
    "There are only two possible outcomes: success or failure.\n",
    "There is a fixed number of trials, denoted by n.\n",
    "The trials are independent, meaning the outcome of one trial does not affect the outcome of another.\n",
    "The probability of success, denoted by p, is constant for each trial.\n",
    "\n",
    "Some examples of events where binomial distribution can be applied are: \n",
    "\n",
    "The number of heads in 10 coin tosses.\n",
    "The number of defective items in a batch of 100 products.\n",
    "The number of students who pass a test out of 50."
   ]
  },
  {
   "cell_type": "markdown",
   "id": "99186ea3-a9d5-44eb-bf9f-5134864d2e53",
   "metadata": {},
   "source": [
    "Q5. Generate a random sample of size 1000 from a binomial distribution with probability of success 0.4\n",
    "and plot a histogram of the results using matplotlib."
   ]
  },
  {
   "cell_type": "code",
   "execution_count": 2,
   "id": "18104122-cbc4-4307-96d6-506859cc0268",
   "metadata": {},
   "outputs": [
    {
     "data": {
      "image/png": "[encoded data removed]",
      "text/plain": [
       "<Figure size 640x480 with 1 Axes>"
      ]
     },
     "metadata": {},
     "output_type": "display_data"
    }
   ],
   "source": [
    "import numpy as np\n",
    "import matplotlib.pyplot as plt\n",
    "\n",
    "# generate a random sample of size 1000 from a binomial distribution with probability of success 0.4\n",
    "sample = np.random.binomial(n=1, p=0.4, size=1000)\n",
    "\n",
    "# plot a histogram of the results using matplotlib\n",
    "plt.hist(sample, bins=2, edgecolor='black')\n",
    "plt.xlabel('Outcome')\n",
    "plt.ylabel('Frequency')\n",
    "plt.title('Histogram of Binomial Sample')\n",
    "plt.show()"
   ]
  },
  {
   "cell_type": "markdown",
   "id": "64359fd5-540d-4c0f-80ca-0018a352a5f5",
   "metadata": {},
   "source": [
    "Q6. Write a Python function to calculate the cumulative distribution function of a Poisson distribution\n",
    "with given mean at a given point."
   ]
  },
  {
   "cell_type": "code",
   "execution_count": 3,
   "id": "07b79a6f-a4c6-4c2b-92e2-af0c4b18ca66",
   "metadata": {},
   "outputs": [],
   "source": [
    "import math\n",
    "\n",
    "def poisson_cdf(x, mu):\n",
    "  # x is the point\n",
    "  # mu is the mean\n",
    "  # returns the cumulative distribution function value\n",
    "  return sum(math.exp(-mu) * mu ** k / math.factorial(k) for k in range(x + 1))\n"
   ]
  },
  {
   "cell_type": "markdown",
   "id": "cac1750b-b160-4e25-bdea-82b706ada7dd",
   "metadata": {},
   "source": [
    "Q7. How Binomial distribution different from Poisson distribution?"
   ]
  },
  {
   "cell_type": "markdown",
   "id": "a4c79677-aa52-42c3-9f56-085e68c05846",
   "metadata": {},
   "source": [
    "Binomial distribution and Poisson distribution are both discrete probability distributions that can model the number of events in a given scenario. However, they have some differences: \n",
    "\n",
    "Binomial distribution has two parameters: n (the number of trials) and p (the probability of success in each trial). Poisson distribution has one parameter: λ (the average rate of events per interval).\n",
    "\n",
    "Binomial distribution assumes a fixed number of trials, while Poisson distribution assumes an infinite number of possible events in a given interval.\n",
    "\n",
    "Binomial distribution can only have two possible outcomes: success or failure. Poisson distribution can have any number of possible outcomes.\n",
    "\n",
    "Binomial distribution has a mean and variance of np and np(1-p), respectively. Poisson distribution has a mean and variance of λ.\n",
    "\n",
    "Some examples of scenarios where binomial distribution can be used are:\n",
    "\n",
    "The number of heads in 10 coin tosses.\n",
    "The number of defective items in a batch of 100 products.\n",
    "The number of students who pass a test out of 50.\n",
    "\n",
    "Some examples of scenarios where Poisson distribution can be used are:\n",
    "\n",
    "The number of customers who arrive at a store in an hour.\n",
    "The number of emails received in a day.\n",
    "The number of accidents on a highway in a month."
   ]
  },
  {
   "cell_type": "markdown",
   "id": "6fc470bc-c4a4-483e-b680-3ca659ffe1ab",
   "metadata": {},
   "source": [
    "Q8. Generate a random sample of size 1000 from a Poisson distribution with mean 5 and calculate the\n",
    "sample mean and variance."
   ]
  },
  {
   "cell_type": "code",
   "execution_count": 5,
   "id": "8870bcde-e6a6-4796-af61-7424ff8147d9",
   "metadata": {},
   "outputs": [
    {
     "name": "stdout",
     "output_type": "stream",
     "text": [
      "Sample mean: 4.963\n",
      "Sample variance: 4.585630999999999\n"
     ]
    }
   ],
   "source": [
    "import numpy as np\n",
    "\n",
    "# generate a random sample of size 1000 from a Poisson distribution with mean 5\n",
    "sample = np.random.poisson(lam=5, size=1000)\n",
    "\n",
    "# calculate the sample mean and variance\n",
    "sample_mean = np.mean(sample)\n",
    "sample_var = np.var(sample)\n",
    "\n",
    "# print the results\n",
    "print('Sample mean:', sample_mean)\n",
    "print('Sample variance:', sample_var)"
   ]
  },
  {
   "cell_type": "code",
   "execution_count": null,
   "id": "e67f15ec-d358-4cb4-be8d-f9c939aef819",
   "metadata": {},
   "outputs": [],
   "source": []
  },
  {
   "cell_type": "markdown",
   "id": "3205b285-db4b-4598-b82a-fbc81fb3e64f",
   "metadata": {},
   "source": [
    "Q9. How mean and variance are related in Binomial distribution and Poisson distribution?"
   ]
  },
  {
   "cell_type": "markdown",
   "id": "f7c13e07-78f5-4d69-aa1d-e526478ba4e2",
   "metadata": {},
   "source": [
    "Mean and variance are two measures of the central tendency and dispersion of a probability distribution. They are related in different ways for Binomial distribution and Poisson distribution:\n",
    "\n",
    "For Binomial distribution, the mean is the product of the number of trials (n) and the probability of success in each trial (p). The variance is the product of the mean and the probability of failure in each trial (q = 1 - p). The formulas are:\n",
    "\n",
    "Mean, μ = np\n",
    "Variance, σ² = npq\n",
    "\n",
    "For Poisson distribution, the mean is the average rate of events per interval (λ). The variance is equal to the mean. The formulas are:\n",
    "\n",
    "Mean, μ = λ\n",
    "Variance, σ² = λ"
   ]
  },
  {
   "cell_type": "markdown",
   "id": "c2d91854-3641-4c1e-a1cf-aa831dad2386",
   "metadata": {},
   "source": [
    "Q10. In normal distribution with respect to mean position, where does the least frequent data appear?"
   ]
  },
  {
   "cell_type": "markdown",
   "id": "36cddb89-e693-43a2-b1fa-0d8377755845",
   "metadata": {},
   "source": [
    "In normal distribution, the data is symmetrically distributed around the mean. This means that most of the observed data is clustered near the mean, while the data become less frequent when farther away from the mean. The least frequent data appear in the tails of the distribution, which are very far from the mean and have very low probabilities of occurrence."
   ]
  },
  {
   "cell_type": "code",
   "execution_count": null,
   "id": "31e99c3d-681c-46a8-b421-f6542c566f76",
   "metadata": {},
   "outputs": [],
   "source": []
  }
 ],
 "metadata": {
  "kernelspec": {
   "display_name": "Python 3 (ipykernel)",
   "language": "python",
   "name": "python3"
  },
  "language_info": {
   "codemirror_mode": {
    "name": "ipython",
    "version": 3
   },
   "file_extension": ".py",
   "mimetype": "text/x-python",
   "name": "python",
   "nbconvert_exporter": "python",
   "pygments_lexer": "ipython3",
   "version": "3.10.8"
  }
 },
 "nbformat": 4,
 "nbformat_minor": 5
}
