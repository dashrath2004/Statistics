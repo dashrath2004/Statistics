{
 "cells": [
  {
   "cell_type": "markdown",
   "id": "3f337556-2885-47fd-b410-bf094d9bea0d",
   "metadata": {},
   "source": [
    "# Q1. Write a Python function that takes in two arrays of data and calculates the F-value for a variance ratio test. The function should return the F-value and the corresponding p-value for the test."
   ]
  },
  {
   "cell_type": "code",
   "execution_count": 43,
   "id": "7bba3f20-154a-4642-8fca-41fb51a2d1b9",
   "metadata": {},
   "outputs": [
    {
     "data": {
      "text/plain": [
       "(1.0352889762919262, 0.5147152131494042)"
      ]
     },
     "execution_count": 43,
     "metadata": {},
     "output_type": "execute_result"
    }
   ],
   "source": [
    "import numpy as np\n",
    "import pandas as pd\n",
    "from scipy.stats import f\n",
    "import scipy.stats as stats\n",
    "\n",
    "df = pd.DataFrame({\"A\":[23,21,25,26,45,66],\"B\":[25,58,42,16,15,45]})\n",
    "\n",
    "f_value = np.var(df[\"A\"])/np.var(df[\"B\"])\n",
    "\n",
    "\n",
    "df1 = len(df[\"A\"])-1\n",
    "df2 = len(df[\"B\"])-1\n",
    "\n",
    "p_value = f.cdf(f_value,df1,df2)\n",
    "\n",
    "f_value,p_value"
   ]
  },
  {
   "cell_type": "markdown",
   "id": "4b639672-6f0e-4dd0-9543-756abee6d61d",
   "metadata": {},
   "source": [
    "# Q2. Given a significance level of 0.05 and the degrees of freedom for the numerator and denominator of an F-distribution, write a Python function that returns the critical F-value for a two-tailed test."
   ]
  },
  {
   "cell_type": "code",
   "execution_count": 44,
   "id": "431dd913-1069-4de3-a5ee-fe94f4a66740",
   "metadata": {},
   "outputs": [
    {
     "name": "stdout",
     "output_type": "stream",
     "text": [
      "Critical F-value: 4.07682306196248\n"
     ]
    }
   ],
   "source": [
    "alpha = 0.05/2\n",
    "dfn = 3\n",
    "dfd = 16\n",
    "f_crit = f.ppf(1-alpha, dfn, dfd)\n",
    "print(\"Critical F-value:\", f_crit)"
   ]
  },
  {
   "cell_type": "markdown",
   "id": "6a3b37b2-fb35-49ae-9d36-92d682155edf",
   "metadata": {},
   "source": [
    "# Q3.Write a Python program that generates random samples from two normal distributions with known variances and uses an F-test to determine if the variances are equal. The program should output the F- value, degrees of freedom, and p-value for the test."
   ]
  },
  {
   "cell_type": "code",
   "execution_count": 45,
   "id": "8ce50a0d-6dd6-4f7b-a3f8-4123d0fff8df",
   "metadata": {},
   "outputs": [
    {
     "name": "stdout",
     "output_type": "stream",
     "text": [
      "accept null hypothesis\n"
     ]
    }
   ],
   "source": [
    "import numpy as np\n",
    "\n",
    "np.random.seed(42)\n",
    "s1 = np.random.normal(10,20,20)\n",
    "s2 = np.random.normal(5,15,20)\n",
    "F_value = np.var(s1)/np.var(s2)\n",
    "\n",
    "df1 = 19\n",
    "df2 = 19\n",
    "p_value = f.cdf(f_value,df1,df2)\n",
    "\n",
    "alpha = 0.05\n",
    "\n",
    "if p_value<alpha:\n",
    "    print(\"reject null hypothesis\")\n",
    "else:\n",
    "    print(\"accept null hypothesis\")\n",
    "\n"
   ]
  },
  {
   "cell_type": "markdown",
   "id": "b4a2df90-2f16-41c0-a162-caf7d38b6d74",
   "metadata": {},
   "source": [
    "# Q4. The variances of two populations are known to be 10 and 15. A sample of 12 observations is taken from each population. Conduct an F-test at the 5% significance level to determine if the variances are significantly different"
   ]
  },
  {
   "cell_type": "code",
   "execution_count": 46,
   "id": "af4945bd-d9dd-40a4-9131-993581be5305",
   "metadata": {},
   "outputs": [
    {
     "name": "stdout",
     "output_type": "stream",
     "text": [
      "0.6666666666666666\n",
      "2.8179304699530863\n",
      "we fail to reject null hyphothesis\n"
     ]
    }
   ],
   "source": [
    "var1 = 10\n",
    "var2 = 15\n",
    "\n",
    "df1 = 11\n",
    "df2 = 11\n",
    "alpha = 0.05\n",
    "f_value =var1/var2\n",
    "print(f_value)\n",
    "\n",
    "f_critical = f.ppf(1-alpha,df1,df2)\n",
    "print(f_critical)\n",
    "\n",
    "if f_value<f_critical:\n",
    "    print(\"we fail to reject null hyphothesis\")\n",
    "else:\n",
    "    print(\"reject null hyphothesis\")"
   ]
  },
  {
   "cell_type": "markdown",
   "id": "b329d284-40cb-419b-99d7-2271df2a5382",
   "metadata": {},
   "source": [
    "Final answer is:\n",
    "\n",
    "Failed to reject null hypothesis\n",
    "\n",
    "Variance of two populations are equal"
   ]
  },
  {
   "cell_type": "markdown",
   "id": "dd39e831-841a-4af5-a549-bacbd14a2185",
   "metadata": {},
   "source": [
    "# Q5. A manufacturer claims that the variance of the diameter of a certain product is 0.005. A sample of 25 products is taken, and the sample variance is found to be 0.006. Conduct an F-test at the 1% significance level to determine if the claim is justified."
   ]
  },
  {
   "cell_type": "code",
   "execution_count": 47,
   "id": "40bb507b-4475-4419-8d8a-d522baed99b8",
   "metadata": {},
   "outputs": [
    {
     "name": "stdout",
     "output_type": "stream",
     "text": [
      "1.2 6234.6308935330835\n"
     ]
    }
   ],
   "source": [
    "import numpy as np\n",
    "import scipy.stats as stats\n",
    "from scipy.stats import f\n",
    "s1 = 0.006\n",
    "s2 = 0.005\n",
    "f_value = s1/s2\n",
    "\n",
    "df1 = 24\n",
    "df2 = 1\n",
    "alpha = 0.01\n",
    "f_critical = stats.f.ppf(1-alpha,df1,df2)\n",
    "\n",
    "print(f_value,f_critical)"
   ]
  },
  {
   "cell_type": "markdown",
   "id": "2bf8dd60-2fb8-4dbf-b110-00c9aaa14892",
   "metadata": {},
   "source": [
    "We can see that the F-value (1.2) is much smaller than the F-critical value (6234.63080), which further supports our conclusion that we fail to reject the null hypothesis."
   ]
  },
  {
   "cell_type": "markdown",
   "id": "38f558b9-d817-48c1-82fc-0da3dc19d132",
   "metadata": {},
   "source": [
    "# Q6. Write a Python function that takes in the degrees of freedom for the numerator and denominator of an F-distribution and calculates the mean and variance of the distribution. The function should return the mean and variance as a tuple."
   ]
  },
  {
   "cell_type": "code",
   "execution_count": 48,
   "id": "2436b7dd-3050-4393-840f-adb210cb8178",
   "metadata": {},
   "outputs": [
    {
     "name": "stdout",
     "output_type": "stream",
     "text": [
      "Mean:  1.25\n",
      "Variance:  1.9097222222222223\n"
     ]
    }
   ],
   "source": [
    "import numpy as np\n",
    "from scipy.stats import f\n",
    "\n",
    "def f_distribution_mean_var(dfn, dfd):\n",
    "    mean = dfd / (dfd - 2)\n",
    "    variance = (2 * dfd**2 * (dfn + dfd - 2)) / (dfn * (dfd - 2)**2 * (dfd - 4))\n",
    "    return (mean, variance)\n",
    "\n",
    "mean, variance = f_distribution_mean_var(3, 10)\n",
    "print(\"Mean: \", mean)\n",
    "print(\"Variance: \", variance)"
   ]
  },
  {
   "cell_type": "markdown",
   "id": "de38e6b2-277f-4b6b-b698-4bc841846416",
   "metadata": {},
   "source": [
    "# Q7. A random sample of 10 measurements is taken from a normal population with unknown variance. The sample variance is found to be 25. Another random sample of 15 measurements is taken from another normal population with unknown variance, and the sample variance is found to be 20. Conduct an F-test at the 10% significance level to determine if the variances are significantly different."
   ]
  },
  {
   "cell_type": "code",
   "execution_count": 49,
   "id": "d220cc76-404e-4e52-8f03-f98c3bfbe937",
   "metadata": {},
   "outputs": [
    {
     "name": "stdout",
     "output_type": "stream",
     "text": [
      "1.2\n",
      "2.121954566976902\n",
      "we fail to reject null hypothesis,Variance are equal\n"
     ]
    }
   ],
   "source": [
    "import numpy as np \n",
    "import scipy.stats as stats\n",
    "from scipy.stats import f\n",
    "\n",
    "\n",
    "n1 = 10\n",
    "n2 = 15\n",
    "\n",
    "sample_var1 = 25\n",
    "sample_var2 = 20\n",
    "\n",
    "alpha = 0.1\n",
    "\n",
    "f_test = sample_var1/sample_var2\n",
    "dfn = n1-1\n",
    "dfd = n2 -1\n",
    "f_critical = stats.f.ppf(1-alpha,dfn,dfd)\n",
    "\n",
    "print(f_value)\n",
    "print(f_critical)\n",
    "\n",
    "if f_test<f_critical:\n",
    "    print(\"we fail to reject null hypothesis,Variance are equal\")\n",
    "else:\n",
    "    print(\"reject null hyphothesis,Variance are not equal\")"
   ]
  },
  {
   "cell_type": "markdown",
   "id": "7b2a8b88-babf-411d-b121-2d38f5933b48",
   "metadata": {},
   "source": [
    "# Q8. The following data represent the waiting times in minutes at two different restaurants on a Saturday night: Restaurant A: 24, 25, 28, 23, 22, 20, 27; Restaurant B: 31, 33, 35, 30, 32, 36. Conduct an F-test at the 5% significance level to determine if the variances are significantly different."
   ]
  },
  {
   "cell_type": "code",
   "execution_count": 50,
   "id": "f6423984-0d02-488b-aa2e-ea61690d8758",
   "metadata": {},
   "outputs": [
    {
     "name": "stdout",
     "output_type": "stream",
     "text": [
      "F_value:  1.496767651159843\n",
      "F_critical:  4.950288068694318\n",
      "we fail to reject null hypothesis,Variance are equal\n"
     ]
    }
   ],
   "source": [
    "\n",
    "import numpy as np\n",
    "\n",
    "import scipy.stats as stats\n",
    "from scipy.stats import f\n",
    "Restaurants_A = np.array([24,25,28,23,22,20,27])\n",
    "\n",
    "Restaurants_B = np.array([31,33,35,30,32,36])\n",
    "\n",
    "dofn = len(Restaurants_A)-1\n",
    "dofd = len(Restaurants_B)-1\n",
    "\n",
    "f_value = np.var(Restaurants_A)/np.var(Restaurants_B)\n",
    "\n",
    "alpha = 0.05\n",
    "\n",
    "f_critical = stats.f.ppf(1-alpha,dofn,dofd)\n",
    "\n",
    "print(\"F_value: \",f_value)\n",
    "print(\"F_critical: \",f_critical)\n",
    "\n",
    "\n",
    "if f_value<f_critical:\n",
    "    print(\"we fail to reject null hypothesis,Variance are equal\")\n",
    "else:\n",
    "    print(\"Reject null hypothesis,Variance are different\")"
   ]
  },
  {
   "cell_type": "markdown",
   "id": "df21223b-805a-4dba-9fdc-9de10e45698e",
   "metadata": {},
   "source": [
    "# Q9. The following data represent the test scores of two groups of students: Group A: 80, 85, 90, 92, 87, 83; Group B: 75, 78, 82, 79, 81, 84. Conduct an F-test at the 1% significance level to determine if the variances are significantly different."
   ]
  },
  {
   "cell_type": "code",
   "execution_count": 51,
   "id": "84bc0cbe-72a1-4efb-91f7-3cb51b458e31",
   "metadata": {},
   "outputs": [
    {
     "name": "stdout",
     "output_type": "stream",
     "text": [
      "F_value:  1.9442622950819677\n",
      "F_critical:  10.967020650907992\n",
      "we fail to reject null hypothesis,Variance are equal\n"
     ]
    }
   ],
   "source": [
    "import numpy as np\n",
    "\n",
    "import scipy.stats as tats\n",
    "from scipy.stats import f\n",
    "Group_A = np.array([80,85,90,92,87,83])\n",
    "\n",
    "Group_B = np.array([75,78,82,79,81,84])\n",
    "\n",
    "dofn = len(Group_A)-1\n",
    "dofd = len(Group_B)-1\n",
    "\n",
    "f_value = np.var(Group_A)/np.var(Group_B)\n",
    "\n",
    "alpha = 0.01\n",
    "\n",
    "f_critical = stats.f.ppf(1-alpha,dofn,dofd)\n",
    "\n",
    "print(\"F_value: \",f_value)\n",
    "print(\"F_critical: \",f_critical)\n",
    "\n",
    "\n",
    "if f_value<f_critical:\n",
    "    print(\"we fail to reject null hypothesis,Variance are equal\")\n",
    "else:\n",
    "    print(\"Reject null hypothesis,Variance are different\")"
   ]
  },
  {
   "cell_type": "markdown",
   "id": "76b698b9-8491-4a19-b8c9-e158420b5add",
   "metadata": {},
   "source": []
  }
 ],
 "metadata": {
  "kernelspec": {
   "display_name": "Python 3 (ipykernel)",
   "language": "python",
   "name": "python3"
  },
  "language_info": {
   "codemirror_mode": {
    "name": "ipython",
    "version": 3
   },
   "file_extension": ".py",
   "mimetype": "text/x-python",
   "name": "python",
   "nbconvert_exporter": "python",
   "pygments_lexer": "ipython3",
   "version": "3.10.8"
  }
 },
 "nbformat": 4,
 "nbformat_minor": 5
}
