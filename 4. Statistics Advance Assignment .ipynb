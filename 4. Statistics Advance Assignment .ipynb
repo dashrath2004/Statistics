{
 "cells": [
  {
   "cell_type": "markdown",
   "id": "97e2011d-1dfa-4257-a162-e99519a24203",
   "metadata": {},
   "source": [
    "Q1: What are the Probability Mass Function (PMF) and Probability Density Function (PDF)? Explain with\n",
    "an example."
   ]
  },
  {
   "cell_type": "markdown",
   "id": "6a513024-42a4-46de-8e9d-e2eedc8df2be",
   "metadata": {},
   "source": [
    "PMF : A probability mass function (PMF) is a function that gives the probability that a         discrete random variable is exactly equal to some value.\n",
    "\n",
    "Example : Height of students in classroom.\n",
    "\n",
    "PDF : A probability density function (PDF) is a function that gives the probability that       a continuous random variable falls within some interval.\n",
    "\n",
    "Example : Rolling a dice."
   ]
  },
  {
   "cell_type": "markdown",
   "id": "19f106f2-61e9-4380-ab63-1bfca4a1e573",
   "metadata": {},
   "source": [
    "Q2: What is Cumulative Density Function (CDF)? Explain with an example. Why CDF is used?"
   ]
  },
  {
   "cell_type": "markdown",
   "id": "0ce6ac7a-ee6d-44b4-9498-46bcdcf032ad",
   "metadata": {},
   "source": [
    "A cumulative distribution function (CDF) is a function that gives the probability that a random variable is less than or equal to a given value. It is also called the cumulative probability function.\n",
    "\n",
    "For example, if X is the height of a person in centimeters, then the CDF of X at 170 is the probability that a person is 170 cm or shorter.\n",
    "\n",
    "CDF is used to describe the probability distribution of a random variable, which tells us how likely different values of the variable are. CDF can also be used to calculate percentiles, median, mode, and other statistics of the variable."
   ]
  },
  {
   "cell_type": "markdown",
   "id": "0c18aae9-90b0-4986-94a1-0fa2264c9111",
   "metadata": {},
   "source": [
    "Q3: What are some examples of situations where the normal distribution might be used as a model?\n",
    "Explain how the parameters of the normal distribution relate to the shape of the distribution."
   ]
  },
  {
   "cell_type": "markdown",
   "id": "c9f36997-71c3-4ad5-a26e-ec771796c8ff",
   "metadata": {},
   "source": [
    "Some examples of situations where the normal distribution might be used as a model are:\n",
    "\n",
    "The height or weight of people in a population.\n",
    "The IQ scores or SAT scores of students.\n",
    "The blood pressure or cholesterol levels of adults.\n",
    "\n",
    "The parameters of the normal distribution are the mean and the standard deviation. The mean is the average value of the distribution and it determines the center of the curve.\n",
    "\n",
    "The standard deviation is a measure of how much the values vary from the mean and it determines the width and height of the curve. A larger standard deviation means a wider and flatter curve, while a smaller standard deviation means a narrower and taller curve."
   ]
  },
  {
   "cell_type": "markdown",
   "id": "4483bf06-1115-4128-8232-eebb59628180",
   "metadata": {},
   "source": [
    "Q4: Explain the importance of Normal Distribution. Give a few real-life examples of Normal\n",
    "Distribution."
   ]
  },
  {
   "cell_type": "markdown",
   "id": "4988ad72-3b90-4617-903f-3a05b6e997b9",
   "metadata": {},
   "source": [
    "Normal distribution is important because it fits many natural phenomena and is widely used in statistics, business, and science. Some examples of variables that follow normal distribution are:\n",
    "\n",
    "1.Heights of people\n",
    "2.Blood pressure\n",
    "3.Measurement error\n",
    "4.IQ scores\n",
    "5.SAT scores"
   ]
  },
  {
   "cell_type": "markdown",
   "id": "86ec95be-92b3-4968-bccd-4e740a61665c",
   "metadata": {},
   "source": [
    "Q5: What is Bernaulli Distribution? Give an Example. What is the difference between Bernoulli\n",
    "Distribution and Binomial Distribution?"
   ]
  },
  {
   "cell_type": "markdown",
   "id": "59c96bbd-d95f-4791-a98f-4a382ff41ac1",
   "metadata": {},
   "source": [
    "A Bernoulli distribution is a discrete probability distribution of a random variable that takes the value 1 (success) with probability p and the value 0 (failure) with probability 1-p. An example of a Bernoulli distribution is the outcome of a coin flip, where p is the probability of getting heads and 1-p is the probability of getting tails.\n",
    "\n",
    "A binomial distribution is the sum of independent and identically distributed Bernoulli random variables. It is the discrete probability distribution of the number of successes in n Bernoulli trials, where n is fixed. An example of a binomial distribution is the number of heads in 10 coin flips, where n is 10 and p is the same as in the Bernoulli distribution.\n",
    "\n",
    "The difference between Bernoulli and binomial distributions is that a Bernoulli distribution has only two possible outcomes (0 or 1), while a binomial distribution can have several possible outcomes (0, 1, …, n). A Bernoulli distribution is a special case of a binomial distribution where n is 1"
   ]
  },
  {
   "cell_type": "markdown",
   "id": "3dafc6a4-9338-4b47-8ff5-7569d38f046a",
   "metadata": {},
   "source": [
    "Q6. Consider a dataset with a mean of 50 and a standard deviation of 10. If we assume that the dataset\n",
    "is normally distributed, what is the probability that a randomly selected observation will be greater\n",
    "than 60? Use the appropriate formula and show your calculations."
   ]
  },
  {
   "attachments": {
    "3a51480a-975e-4fa0-9178-cf7424c8cd17.jpeg": {
     "image/jpeg": "[encoded data removed]"
    },
    "a8260846-f6cd-459e-a621-ee27e44ab0ec.jpeg": {
     "image/jpeg": "[encoded data removed]"
    }
   },
   "cell_type": "markdown",
   "id": "d31839e9-7551-4652-a83f-28e5911132d7",
   "metadata": {},
   "source": [
    "To find the probability that a randomly selected observation will be greater than 60, we need to use the normal distribution probability formula.\n",
    "\n",
    "![Web capture_8-8-2023_181423_.jpeg](attachment:3a51480a-975e-4fa0-9178-cf7424c8cd17.jpeg)\n",
    "\n",
    "where μ is the mean and σ is the standard deviation of the dataset.\n",
    "We can also use the standard normal distribution table to look up the probability for a given value of z, where z is the standard score or z-score calculated by:\n",
    "\n",
    "![Web capture_8-8-2023_182032_.jpeg](attachment:a8260846-f6cd-459e-a621-ee27e44ab0ec.jpeg)\n",
    "\n",
    "In this case, we have μ=50 and σ=10, so we can calculate z for x=60 as:\n",
    "z : 60−50/10 = 1\n",
    "\n",
    "Then, we can look up the probability for z=1 in the table and find that it is 0.8413.\n",
    "\n",
    "This means that the probability of getting a value less than or equal to 60 is 0.8413.\n",
    "\n",
    "To find the probability of getting a value greater than 60, we need to subtract this from 1:\n",
    "P(x>60)=1−P(x≤60)=1−0.8413=0.1587\n",
    "\n",
    "Therefore, the probability that a randomly selected observation will be greater than 60 is 0.1587 or 15.87%."
   ]
  },
  {
   "cell_type": "markdown",
   "id": "c02c3400-3a94-4ce7-9065-3afef3e977cf",
   "metadata": {},
   "source": [
    "Q7: Explain uniform Distribution with an example."
   ]
  },
  {
   "cell_type": "markdown",
   "id": "2b677cfe-949a-411c-bf59-9ee0528d280b",
   "metadata": {},
   "source": [
    "A uniform distribution is a type of probability distribution where all possible outcomes have the same probability. For example, if you roll a fair die, the probability of getting any number from 1 to 6 is 1/6. This is a discrete uniform distribution. A continuous uniform distribution is when any value in a given range has the same probability. For example, if you pick a random number between 0 and 1, the probability of getting any number is 1"
   ]
  },
  {
   "cell_type": "markdown",
   "id": "ead8fd3d-a2b7-4dc7-93dd-4392c7bc3c0c",
   "metadata": {},
   "source": [
    "Q8: What is the z score? State the importance of the z score."
   ]
  },
  {
   "cell_type": "markdown",
   "id": "62bd0ecb-f7f5-4ad1-b0cb-63aca415ca3a",
   "metadata": {},
   "source": [
    "A z score is a statistical measurement that indicates how many standard deviations a particular data point is away from a distribution’s mean (average). It is important because it lets us compare data points from different distributions, calculate the probability of a score occurring within the same distribution, and identify outliers or abnormal data points."
   ]
  },
  {
   "cell_type": "markdown",
   "id": "2623fdf4-d21b-404a-9a02-bddb91b92774",
   "metadata": {},
   "source": [
    "Q9: What is Central Limit Theorem? State the significance of the Central Limit Theorem."
   ]
  },
  {
   "cell_type": "markdown",
   "id": "1150cee3-e723-4a18-a5bf-7bcd0df3452c",
   "metadata": {},
   "source": [
    "The central limit theorem (CLT) states that the distribution of sample means approximates a normal distribution as the sample size gets larger, regardless of the population's distribution. Sample sizes equal to or greater than 30 are often considered sufficient for the CLT to hold.\n",
    "It is significant because it allows us to use the normal distribution to make inferences about the population mean, perform hypothesis testing, and calculate confidence intervals"
   ]
  },
  {
   "cell_type": "markdown",
   "id": "fd7861d9-7196-4ce8-83e5-50404cd8453f",
   "metadata": {},
   "source": [
    "Q10: State the assumptions of the Central Limit Theorem."
   ]
  },
  {
   "cell_type": "markdown",
   "id": "0dd66401-27f6-4601-8b08-290d25949279",
   "metadata": {},
   "source": [
    "The assumptions of the Central Limit Theorem are:\n",
    "\n",
    "1.The sample should be drawn randomly following the condition of randomization.\n",
    "\n",
    "2.The samples drawn should be independent of each other. They should not influence the other samples.\n",
    "\n",
    "3.When the sampling is done without replacement, the sample size shouldn’t exceed 10% of the total population.\n",
    "\n",
    "4.The sample size should be large enough (usually at least 30) to approximate the normal distribution."
   ]
  },
  {
   "cell_type": "code",
   "execution_count": null,
   "id": "6db7a039-9014-4e7e-ab44-5f8c940786c9",
   "metadata": {},
   "outputs": [],
   "source": []
  }
 ],
 "metadata": {
  "kernelspec": {
   "display_name": "Python 3 (ipykernel)",
   "language": "python",
   "name": "python3"
  },
  "language_info": {
   "codemirror_mode": {
    "name": "ipython",
    "version": 3
   },
   "file_extension": ".py",
   "mimetype": "text/x-python",
   "name": "python",
   "nbconvert_exporter": "python",
   "pygments_lexer": "ipython3",
   "version": "3.10.8"
  }
 },
 "nbformat": 4,
 "nbformat_minor": 5
}
